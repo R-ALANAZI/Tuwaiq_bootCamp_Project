{
 "cells": [
  {
   "cell_type": "code",
   "execution_count": 827,
   "id": "05d42e48",
   "metadata": {},
   "outputs": [],
   "source": [
    "# import the libraries \n",
    "import pandas as pd\n",
    "import numpy as np\n",
    "import seaborn as sns\n",
    "import matplotlib.pyplot as plt\n",
    "from sklearn.linear_model import LogisticRegression\n",
    "from sklearn.metrics import accuracy_score"
   ]
  },
  {
   "cell_type": "code",
   "execution_count": 828,
   "id": "34a7d765",
   "metadata": {},
   "outputs": [
    {
     "data": {
      "text/html": [
       "<div>\n",
       "<style scoped>\n",
       "    .dataframe tbody tr th:only-of-type {\n",
       "        vertical-align: middle;\n",
       "    }\n",
       "\n",
       "    .dataframe tbody tr th {\n",
       "        vertical-align: top;\n",
       "    }\n",
       "\n",
       "    .dataframe thead th {\n",
       "        text-align: right;\n",
       "    }\n",
       "</style>\n",
       "<table border=\"1\" class=\"dataframe\">\n",
       "  <thead>\n",
       "    <tr style=\"text-align: right;\">\n",
       "      <th></th>\n",
       "      <th>hotel</th>\n",
       "      <th>is_canceled</th>\n",
       "      <th>lead_time</th>\n",
       "      <th>arrival_date_year</th>\n",
       "      <th>arrival_date_month</th>\n",
       "      <th>arrival_date_week_number</th>\n",
       "      <th>arrival_date_day_of_month</th>\n",
       "      <th>stays_in_weekend_nights</th>\n",
       "      <th>stays_in_week_nights</th>\n",
       "      <th>adults</th>\n",
       "      <th>...</th>\n",
       "      <th>deposit_type</th>\n",
       "      <th>agent</th>\n",
       "      <th>company</th>\n",
       "      <th>days_in_waiting_list</th>\n",
       "      <th>customer_type</th>\n",
       "      <th>adr</th>\n",
       "      <th>required_car_parking_spaces</th>\n",
       "      <th>total_of_special_requests</th>\n",
       "      <th>reservation_status</th>\n",
       "      <th>reservation_status_date</th>\n",
       "    </tr>\n",
       "  </thead>\n",
       "  <tbody>\n",
       "    <tr>\n",
       "      <th>0</th>\n",
       "      <td>Resort Hotel</td>\n",
       "      <td>0</td>\n",
       "      <td>342</td>\n",
       "      <td>2015</td>\n",
       "      <td>July</td>\n",
       "      <td>27</td>\n",
       "      <td>1</td>\n",
       "      <td>0</td>\n",
       "      <td>0</td>\n",
       "      <td>2</td>\n",
       "      <td>...</td>\n",
       "      <td>No Deposit</td>\n",
       "      <td>NaN</td>\n",
       "      <td>NaN</td>\n",
       "      <td>0</td>\n",
       "      <td>Transient</td>\n",
       "      <td>0.00</td>\n",
       "      <td>0</td>\n",
       "      <td>0</td>\n",
       "      <td>Check-Out</td>\n",
       "      <td>2015-07-01</td>\n",
       "    </tr>\n",
       "    <tr>\n",
       "      <th>1</th>\n",
       "      <td>Resort Hotel</td>\n",
       "      <td>0</td>\n",
       "      <td>737</td>\n",
       "      <td>2015</td>\n",
       "      <td>July</td>\n",
       "      <td>27</td>\n",
       "      <td>1</td>\n",
       "      <td>0</td>\n",
       "      <td>0</td>\n",
       "      <td>2</td>\n",
       "      <td>...</td>\n",
       "      <td>No Deposit</td>\n",
       "      <td>NaN</td>\n",
       "      <td>NaN</td>\n",
       "      <td>0</td>\n",
       "      <td>Transient</td>\n",
       "      <td>0.00</td>\n",
       "      <td>0</td>\n",
       "      <td>0</td>\n",
       "      <td>Check-Out</td>\n",
       "      <td>2015-07-01</td>\n",
       "    </tr>\n",
       "    <tr>\n",
       "      <th>2</th>\n",
       "      <td>Resort Hotel</td>\n",
       "      <td>0</td>\n",
       "      <td>7</td>\n",
       "      <td>2015</td>\n",
       "      <td>July</td>\n",
       "      <td>27</td>\n",
       "      <td>1</td>\n",
       "      <td>0</td>\n",
       "      <td>1</td>\n",
       "      <td>1</td>\n",
       "      <td>...</td>\n",
       "      <td>No Deposit</td>\n",
       "      <td>NaN</td>\n",
       "      <td>NaN</td>\n",
       "      <td>0</td>\n",
       "      <td>Transient</td>\n",
       "      <td>75.00</td>\n",
       "      <td>0</td>\n",
       "      <td>0</td>\n",
       "      <td>Check-Out</td>\n",
       "      <td>2015-07-02</td>\n",
       "    </tr>\n",
       "    <tr>\n",
       "      <th>3</th>\n",
       "      <td>Resort Hotel</td>\n",
       "      <td>0</td>\n",
       "      <td>13</td>\n",
       "      <td>2015</td>\n",
       "      <td>July</td>\n",
       "      <td>27</td>\n",
       "      <td>1</td>\n",
       "      <td>0</td>\n",
       "      <td>1</td>\n",
       "      <td>1</td>\n",
       "      <td>...</td>\n",
       "      <td>No Deposit</td>\n",
       "      <td>304.0</td>\n",
       "      <td>NaN</td>\n",
       "      <td>0</td>\n",
       "      <td>Transient</td>\n",
       "      <td>75.00</td>\n",
       "      <td>0</td>\n",
       "      <td>0</td>\n",
       "      <td>Check-Out</td>\n",
       "      <td>2015-07-02</td>\n",
       "    </tr>\n",
       "    <tr>\n",
       "      <th>4</th>\n",
       "      <td>Resort Hotel</td>\n",
       "      <td>0</td>\n",
       "      <td>14</td>\n",
       "      <td>2015</td>\n",
       "      <td>July</td>\n",
       "      <td>27</td>\n",
       "      <td>1</td>\n",
       "      <td>0</td>\n",
       "      <td>2</td>\n",
       "      <td>2</td>\n",
       "      <td>...</td>\n",
       "      <td>No Deposit</td>\n",
       "      <td>240.0</td>\n",
       "      <td>NaN</td>\n",
       "      <td>0</td>\n",
       "      <td>Transient</td>\n",
       "      <td>98.00</td>\n",
       "      <td>0</td>\n",
       "      <td>1</td>\n",
       "      <td>Check-Out</td>\n",
       "      <td>2015-07-03</td>\n",
       "    </tr>\n",
       "    <tr>\n",
       "      <th>...</th>\n",
       "      <td>...</td>\n",
       "      <td>...</td>\n",
       "      <td>...</td>\n",
       "      <td>...</td>\n",
       "      <td>...</td>\n",
       "      <td>...</td>\n",
       "      <td>...</td>\n",
       "      <td>...</td>\n",
       "      <td>...</td>\n",
       "      <td>...</td>\n",
       "      <td>...</td>\n",
       "      <td>...</td>\n",
       "      <td>...</td>\n",
       "      <td>...</td>\n",
       "      <td>...</td>\n",
       "      <td>...</td>\n",
       "      <td>...</td>\n",
       "      <td>...</td>\n",
       "      <td>...</td>\n",
       "      <td>...</td>\n",
       "      <td>...</td>\n",
       "    </tr>\n",
       "    <tr>\n",
       "      <th>119385</th>\n",
       "      <td>City Hotel</td>\n",
       "      <td>0</td>\n",
       "      <td>23</td>\n",
       "      <td>2017</td>\n",
       "      <td>August</td>\n",
       "      <td>35</td>\n",
       "      <td>30</td>\n",
       "      <td>2</td>\n",
       "      <td>5</td>\n",
       "      <td>2</td>\n",
       "      <td>...</td>\n",
       "      <td>No Deposit</td>\n",
       "      <td>394.0</td>\n",
       "      <td>NaN</td>\n",
       "      <td>0</td>\n",
       "      <td>Transient</td>\n",
       "      <td>96.14</td>\n",
       "      <td>0</td>\n",
       "      <td>0</td>\n",
       "      <td>Check-Out</td>\n",
       "      <td>2017-09-06</td>\n",
       "    </tr>\n",
       "    <tr>\n",
       "      <th>119386</th>\n",
       "      <td>City Hotel</td>\n",
       "      <td>0</td>\n",
       "      <td>102</td>\n",
       "      <td>2017</td>\n",
       "      <td>August</td>\n",
       "      <td>35</td>\n",
       "      <td>31</td>\n",
       "      <td>2</td>\n",
       "      <td>5</td>\n",
       "      <td>3</td>\n",
       "      <td>...</td>\n",
       "      <td>No Deposit</td>\n",
       "      <td>9.0</td>\n",
       "      <td>NaN</td>\n",
       "      <td>0</td>\n",
       "      <td>Transient</td>\n",
       "      <td>225.43</td>\n",
       "      <td>0</td>\n",
       "      <td>2</td>\n",
       "      <td>Check-Out</td>\n",
       "      <td>2017-09-07</td>\n",
       "    </tr>\n",
       "    <tr>\n",
       "      <th>119387</th>\n",
       "      <td>City Hotel</td>\n",
       "      <td>0</td>\n",
       "      <td>34</td>\n",
       "      <td>2017</td>\n",
       "      <td>August</td>\n",
       "      <td>35</td>\n",
       "      <td>31</td>\n",
       "      <td>2</td>\n",
       "      <td>5</td>\n",
       "      <td>2</td>\n",
       "      <td>...</td>\n",
       "      <td>No Deposit</td>\n",
       "      <td>9.0</td>\n",
       "      <td>NaN</td>\n",
       "      <td>0</td>\n",
       "      <td>Transient</td>\n",
       "      <td>157.71</td>\n",
       "      <td>0</td>\n",
       "      <td>4</td>\n",
       "      <td>Check-Out</td>\n",
       "      <td>2017-09-07</td>\n",
       "    </tr>\n",
       "    <tr>\n",
       "      <th>119388</th>\n",
       "      <td>City Hotel</td>\n",
       "      <td>0</td>\n",
       "      <td>109</td>\n",
       "      <td>2017</td>\n",
       "      <td>August</td>\n",
       "      <td>35</td>\n",
       "      <td>31</td>\n",
       "      <td>2</td>\n",
       "      <td>5</td>\n",
       "      <td>2</td>\n",
       "      <td>...</td>\n",
       "      <td>No Deposit</td>\n",
       "      <td>89.0</td>\n",
       "      <td>NaN</td>\n",
       "      <td>0</td>\n",
       "      <td>Transient</td>\n",
       "      <td>104.40</td>\n",
       "      <td>0</td>\n",
       "      <td>0</td>\n",
       "      <td>Check-Out</td>\n",
       "      <td>2017-09-07</td>\n",
       "    </tr>\n",
       "    <tr>\n",
       "      <th>119389</th>\n",
       "      <td>City Hotel</td>\n",
       "      <td>0</td>\n",
       "      <td>205</td>\n",
       "      <td>2017</td>\n",
       "      <td>August</td>\n",
       "      <td>35</td>\n",
       "      <td>29</td>\n",
       "      <td>2</td>\n",
       "      <td>7</td>\n",
       "      <td>2</td>\n",
       "      <td>...</td>\n",
       "      <td>No Deposit</td>\n",
       "      <td>9.0</td>\n",
       "      <td>NaN</td>\n",
       "      <td>0</td>\n",
       "      <td>Transient</td>\n",
       "      <td>151.20</td>\n",
       "      <td>0</td>\n",
       "      <td>2</td>\n",
       "      <td>Check-Out</td>\n",
       "      <td>2017-09-07</td>\n",
       "    </tr>\n",
       "  </tbody>\n",
       "</table>\n",
       "<p>119390 rows × 32 columns</p>\n",
       "</div>"
      ],
      "text/plain": [
       "               hotel  is_canceled  lead_time  arrival_date_year  \\\n",
       "0       Resort Hotel            0        342               2015   \n",
       "1       Resort Hotel            0        737               2015   \n",
       "2       Resort Hotel            0          7               2015   \n",
       "3       Resort Hotel            0         13               2015   \n",
       "4       Resort Hotel            0         14               2015   \n",
       "...              ...          ...        ...                ...   \n",
       "119385    City Hotel            0         23               2017   \n",
       "119386    City Hotel            0        102               2017   \n",
       "119387    City Hotel            0         34               2017   \n",
       "119388    City Hotel            0        109               2017   \n",
       "119389    City Hotel            0        205               2017   \n",
       "\n",
       "       arrival_date_month  arrival_date_week_number  \\\n",
       "0                    July                        27   \n",
       "1                    July                        27   \n",
       "2                    July                        27   \n",
       "3                    July                        27   \n",
       "4                    July                        27   \n",
       "...                   ...                       ...   \n",
       "119385             August                        35   \n",
       "119386             August                        35   \n",
       "119387             August                        35   \n",
       "119388             August                        35   \n",
       "119389             August                        35   \n",
       "\n",
       "        arrival_date_day_of_month  stays_in_weekend_nights  \\\n",
       "0                               1                        0   \n",
       "1                               1                        0   \n",
       "2                               1                        0   \n",
       "3                               1                        0   \n",
       "4                               1                        0   \n",
       "...                           ...                      ...   \n",
       "119385                         30                        2   \n",
       "119386                         31                        2   \n",
       "119387                         31                        2   \n",
       "119388                         31                        2   \n",
       "119389                         29                        2   \n",
       "\n",
       "        stays_in_week_nights  adults  ...  deposit_type  agent company  \\\n",
       "0                          0       2  ...    No Deposit    NaN     NaN   \n",
       "1                          0       2  ...    No Deposit    NaN     NaN   \n",
       "2                          1       1  ...    No Deposit    NaN     NaN   \n",
       "3                          1       1  ...    No Deposit  304.0     NaN   \n",
       "4                          2       2  ...    No Deposit  240.0     NaN   \n",
       "...                      ...     ...  ...           ...    ...     ...   \n",
       "119385                     5       2  ...    No Deposit  394.0     NaN   \n",
       "119386                     5       3  ...    No Deposit    9.0     NaN   \n",
       "119387                     5       2  ...    No Deposit    9.0     NaN   \n",
       "119388                     5       2  ...    No Deposit   89.0     NaN   \n",
       "119389                     7       2  ...    No Deposit    9.0     NaN   \n",
       "\n",
       "       days_in_waiting_list customer_type     adr  \\\n",
       "0                         0     Transient    0.00   \n",
       "1                         0     Transient    0.00   \n",
       "2                         0     Transient   75.00   \n",
       "3                         0     Transient   75.00   \n",
       "4                         0     Transient   98.00   \n",
       "...                     ...           ...     ...   \n",
       "119385                    0     Transient   96.14   \n",
       "119386                    0     Transient  225.43   \n",
       "119387                    0     Transient  157.71   \n",
       "119388                    0     Transient  104.40   \n",
       "119389                    0     Transient  151.20   \n",
       "\n",
       "        required_car_parking_spaces  total_of_special_requests  \\\n",
       "0                                 0                          0   \n",
       "1                                 0                          0   \n",
       "2                                 0                          0   \n",
       "3                                 0                          0   \n",
       "4                                 0                          1   \n",
       "...                             ...                        ...   \n",
       "119385                            0                          0   \n",
       "119386                            0                          2   \n",
       "119387                            0                          4   \n",
       "119388                            0                          0   \n",
       "119389                            0                          2   \n",
       "\n",
       "        reservation_status reservation_status_date  \n",
       "0                Check-Out              2015-07-01  \n",
       "1                Check-Out              2015-07-01  \n",
       "2                Check-Out              2015-07-02  \n",
       "3                Check-Out              2015-07-02  \n",
       "4                Check-Out              2015-07-03  \n",
       "...                    ...                     ...  \n",
       "119385           Check-Out              2017-09-06  \n",
       "119386           Check-Out              2017-09-07  \n",
       "119387           Check-Out              2017-09-07  \n",
       "119388           Check-Out              2017-09-07  \n",
       "119389           Check-Out              2017-09-07  \n",
       "\n",
       "[119390 rows x 32 columns]"
      ]
     },
     "execution_count": 828,
     "metadata": {},
     "output_type": "execute_result"
    }
   ],
   "source": [
    "# read the dataset \n",
    "hotel_dataset=pd.read_csv(\"hotel_bookings.csv\")\n",
    "hotel_dataset"
   ]
  },
  {
   "cell_type": "code",
   "execution_count": 829,
   "id": "5955e9a1",
   "metadata": {},
   "outputs": [
    {
     "data": {
      "text/plain": [
       "Index(['hotel', 'is_canceled', 'lead_time', 'arrival_date_year',\n",
       "       'arrival_date_month', 'arrival_date_week_number',\n",
       "       'arrival_date_day_of_month', 'stays_in_weekend_nights',\n",
       "       'stays_in_week_nights', 'adults', 'children', 'babies', 'meal',\n",
       "       'country', 'market_segment', 'distribution_channel',\n",
       "       'is_repeated_guest', 'previous_cancellations',\n",
       "       'previous_bookings_not_canceled', 'reserved_room_type',\n",
       "       'assigned_room_type', 'booking_changes', 'deposit_type', 'agent',\n",
       "       'company', 'days_in_waiting_list', 'customer_type', 'adr',\n",
       "       'required_car_parking_spaces', 'total_of_special_requests',\n",
       "       'reservation_status', 'reservation_status_date'],\n",
       "      dtype='object')"
      ]
     },
     "execution_count": 829,
     "metadata": {},
     "output_type": "execute_result"
    }
   ],
   "source": [
    "hotel_dataset.columns"
   ]
  },
  {
   "cell_type": "code",
   "execution_count": 830,
   "id": "87d0034f",
   "metadata": {},
   "outputs": [
    {
     "name": "stdout",
     "output_type": "stream",
     "text": [
      "<class 'pandas.core.frame.DataFrame'>\n",
      "RangeIndex: 119390 entries, 0 to 119389\n",
      "Data columns (total 32 columns):\n",
      " #   Column                          Non-Null Count   Dtype  \n",
      "---  ------                          --------------   -----  \n",
      " 0   hotel                           119390 non-null  object \n",
      " 1   is_canceled                     119390 non-null  int64  \n",
      " 2   lead_time                       119390 non-null  int64  \n",
      " 3   arrival_date_year               119390 non-null  int64  \n",
      " 4   arrival_date_month              119390 non-null  object \n",
      " 5   arrival_date_week_number        119390 non-null  int64  \n",
      " 6   arrival_date_day_of_month       119390 non-null  int64  \n",
      " 7   stays_in_weekend_nights         119390 non-null  int64  \n",
      " 8   stays_in_week_nights            119390 non-null  int64  \n",
      " 9   adults                          119390 non-null  int64  \n",
      " 10  children                        119386 non-null  float64\n",
      " 11  babies                          119390 non-null  int64  \n",
      " 12  meal                            119390 non-null  object \n",
      " 13  country                         118902 non-null  object \n",
      " 14  market_segment                  119390 non-null  object \n",
      " 15  distribution_channel            119390 non-null  object \n",
      " 16  is_repeated_guest               119390 non-null  int64  \n",
      " 17  previous_cancellations          119390 non-null  int64  \n",
      " 18  previous_bookings_not_canceled  119390 non-null  int64  \n",
      " 19  reserved_room_type              119390 non-null  object \n",
      " 20  assigned_room_type              119390 non-null  object \n",
      " 21  booking_changes                 119390 non-null  int64  \n",
      " 22  deposit_type                    119390 non-null  object \n",
      " 23  agent                           103050 non-null  float64\n",
      " 24  company                         6797 non-null    float64\n",
      " 25  days_in_waiting_list            119390 non-null  int64  \n",
      " 26  customer_type                   119390 non-null  object \n",
      " 27  adr                             119390 non-null  float64\n",
      " 28  required_car_parking_spaces     119390 non-null  int64  \n",
      " 29  total_of_special_requests       119390 non-null  int64  \n",
      " 30  reservation_status              119390 non-null  object \n",
      " 31  reservation_status_date         119390 non-null  object \n",
      "dtypes: float64(4), int64(16), object(12)\n",
      "memory usage: 29.1+ MB\n"
     ]
    }
   ],
   "source": [
    "hotel_dataset.info()"
   ]
  },
  {
   "cell_type": "code",
   "execution_count": 831,
   "id": "a35a9dae",
   "metadata": {},
   "outputs": [
    {
     "data": {
      "text/plain": [
       "hotel                                  0\n",
       "is_canceled                            0\n",
       "lead_time                              0\n",
       "arrival_date_year                      0\n",
       "arrival_date_month                     0\n",
       "arrival_date_week_number               0\n",
       "arrival_date_day_of_month              0\n",
       "stays_in_weekend_nights                0\n",
       "stays_in_week_nights                   0\n",
       "adults                                 0\n",
       "children                               4\n",
       "babies                                 0\n",
       "meal                                   0\n",
       "country                              488\n",
       "market_segment                         0\n",
       "distribution_channel                   0\n",
       "is_repeated_guest                      0\n",
       "previous_cancellations                 0\n",
       "previous_bookings_not_canceled         0\n",
       "reserved_room_type                     0\n",
       "assigned_room_type                     0\n",
       "booking_changes                        0\n",
       "deposit_type                           0\n",
       "agent                              16340\n",
       "company                           112593\n",
       "days_in_waiting_list                   0\n",
       "customer_type                          0\n",
       "adr                                    0\n",
       "required_car_parking_spaces            0\n",
       "total_of_special_requests              0\n",
       "reservation_status                     0\n",
       "reservation_status_date                0\n",
       "dtype: int64"
      ]
     },
     "execution_count": 831,
     "metadata": {},
     "output_type": "execute_result"
    }
   ],
   "source": [
    "#check the dataset\n",
    "hotel_dataset.isna().sum()"
   ]
  },
  {
   "cell_type": "markdown",
   "id": "e982bdb3",
   "metadata": {},
   "source": [
    "  ### Cleaning Datd\n",
    " \n",
    " 1- Missing value\n",
    "\n",
    "    there is missing value in (children, country, agent and company)\n",
    "    drop the country, agent and company and fill the children columns\n",
    "\n",
    " 2- Change the data type for children columns to integer\n",
    "\n",
    " 3- Change the name of columns \"adr\" to average_daily_rate\n",
    "\n",
    " 4- Remove data where number of adults is 0, indicating bad data\n",
    " \n",
    " 5- Remove duplicate data"
   ]
  },
  {
   "cell_type": "code",
   "execution_count": 832,
   "id": "3bb3b787",
   "metadata": {},
   "outputs": [],
   "source": [
    "#1\n",
    "# removd because majoraty of data is missing and dosen't matter because is ID\n",
    "hotel_dataset_clean = hotel_dataset.drop(columns=[\"company\"])\n",
    "hotel_dataset_clean = hotel_dataset_clean.drop(columns=[\"agent\"])\n",
    "\n",
    "# dosen't important value \n",
    "hotel_dataset_clean = hotel_dataset_clean.drop(columns=[\"country\"])\n",
    "hotel_dataset_clean = hotel_dataset_clean.drop(columns=[\"days_in_waiting_list\"])\n",
    "hotel_dataset_clean = hotel_dataset_clean.drop(columns=[\"arrival_date_year\"])\n",
    "hotel_dataset_clean = hotel_dataset_clean.drop(columns=[\"assigned_room_type\"])\n",
    "hotel_dataset_clean = hotel_dataset_clean.drop(columns=[\"booking_changes\"])\n",
    "hotel_dataset_clean = hotel_dataset_clean.drop(columns=[\"reservation_status\"])"
   ]
  },
  {
   "cell_type": "code",
   "execution_count": 833,
   "id": "e7d3051d",
   "metadata": {},
   "outputs": [],
   "source": [
    "#2\n",
    "hotel_dataset_clean['children'] = hotel_dataset_clean.children.fillna(hotel_dataset.children.mean())"
   ]
  },
  {
   "cell_type": "code",
   "execution_count": 834,
   "id": "56c29ada",
   "metadata": {},
   "outputs": [],
   "source": [
    "hotel_dataset_clean = hotel_dataset_clean.astype({\"children\":'int64'})"
   ]
  },
  {
   "cell_type": "code",
   "execution_count": 835,
   "id": "48df3788",
   "metadata": {},
   "outputs": [],
   "source": [
    "#3\n",
    "hotel_dataset_clean = hotel_dataset_clean.rename(columns={\"adr\":\"average_daily_rate\"})"
   ]
  },
  {
   "cell_type": "code",
   "execution_count": 836,
   "id": "c240b6ed",
   "metadata": {},
   "outputs": [],
   "source": [
    "#4\n",
    "hotel_dataset_clean = hotel_dataset_clean[hotel_dataset_clean['adults']!=0]"
   ]
  },
  {
   "cell_type": "code",
   "execution_count": 837,
   "id": "d9f2af8c",
   "metadata": {},
   "outputs": [],
   "source": [
    "#5\n",
    "hotel_dataset_clean = hotel_dataset_clean.drop_duplicates()"
   ]
  },
  {
   "cell_type": "code",
   "execution_count": 838,
   "id": "17aee1ec",
   "metadata": {},
   "outputs": [],
   "source": [
    "# balance data \n",
    "g = hotel_dataset_clean.groupby('is_canceled')\n",
    "hotel_dataset_clean_and_balanced = pd.DataFrame(g.apply(lambda x: x.sample(g.size().min()))).reset_index(drop=True)"
   ]
  },
  {
   "cell_type": "markdown",
   "id": "8b46bde7",
   "metadata": {},
   "source": [
    "### Checking on the dataset after the cleaning "
   ]
  },
  {
   "cell_type": "code",
   "execution_count": 839,
   "id": "f7c03881",
   "metadata": {},
   "outputs": [
    {
     "name": "stdout",
     "output_type": "stream",
     "text": [
      "dataset before removing duplicates: 31994\n",
      "dataset after removing duplicates: 0\n"
     ]
    }
   ],
   "source": [
    "print(f'dataset before removing duplicates: {hotel_dataset.duplicated().sum()}')\n",
    "print(f'dataset after removing duplicates: {hotel_dataset_clean.duplicated().sum()}')\n"
   ]
  },
  {
   "cell_type": "code",
   "execution_count": 840,
   "id": "0050ada6",
   "metadata": {},
   "outputs": [
    {
     "name": "stdout",
     "output_type": "stream",
     "text": [
      "<class 'pandas.core.frame.DataFrame'>\n",
      "Int64Index: 83261 entries, 0 to 119389\n",
      "Data columns (total 24 columns):\n",
      " #   Column                          Non-Null Count  Dtype  \n",
      "---  ------                          --------------  -----  \n",
      " 0   hotel                           83261 non-null  object \n",
      " 1   is_canceled                     83261 non-null  int64  \n",
      " 2   lead_time                       83261 non-null  int64  \n",
      " 3   arrival_date_month              83261 non-null  object \n",
      " 4   arrival_date_week_number        83261 non-null  int64  \n",
      " 5   arrival_date_day_of_month       83261 non-null  int64  \n",
      " 6   stays_in_weekend_nights         83261 non-null  int64  \n",
      " 7   stays_in_week_nights            83261 non-null  int64  \n",
      " 8   adults                          83261 non-null  int64  \n",
      " 9   children                        83261 non-null  int64  \n",
      " 10  babies                          83261 non-null  int64  \n",
      " 11  meal                            83261 non-null  object \n",
      " 12  market_segment                  83261 non-null  object \n",
      " 13  distribution_channel            83261 non-null  object \n",
      " 14  is_repeated_guest               83261 non-null  int64  \n",
      " 15  previous_cancellations          83261 non-null  int64  \n",
      " 16  previous_bookings_not_canceled  83261 non-null  int64  \n",
      " 17  reserved_room_type              83261 non-null  object \n",
      " 18  deposit_type                    83261 non-null  object \n",
      " 19  customer_type                   83261 non-null  object \n",
      " 20  average_daily_rate              83261 non-null  float64\n",
      " 21  required_car_parking_spaces     83261 non-null  int64  \n",
      " 22  total_of_special_requests       83261 non-null  int64  \n",
      " 23  reservation_status_date         83261 non-null  object \n",
      "dtypes: float64(1), int64(14), object(9)\n",
      "memory usage: 15.9+ MB\n"
     ]
    }
   ],
   "source": [
    "hotel_dataset_clean.info()"
   ]
  },
  {
   "cell_type": "code",
   "execution_count": 841,
   "id": "98769681",
   "metadata": {},
   "outputs": [
    {
     "data": {
      "text/plain": [
       "hotel                             0\n",
       "is_canceled                       0\n",
       "lead_time                         0\n",
       "arrival_date_month                0\n",
       "arrival_date_week_number          0\n",
       "arrival_date_day_of_month         0\n",
       "stays_in_weekend_nights           0\n",
       "stays_in_week_nights              0\n",
       "adults                            0\n",
       "children                          0\n",
       "babies                            0\n",
       "meal                              0\n",
       "market_segment                    0\n",
       "distribution_channel              0\n",
       "is_repeated_guest                 0\n",
       "previous_cancellations            0\n",
       "previous_bookings_not_canceled    0\n",
       "reserved_room_type                0\n",
       "deposit_type                      0\n",
       "customer_type                     0\n",
       "average_daily_rate                0\n",
       "required_car_parking_spaces       0\n",
       "total_of_special_requests         0\n",
       "reservation_status_date           0\n",
       "dtype: int64"
      ]
     },
     "execution_count": 841,
     "metadata": {},
     "output_type": "execute_result"
    }
   ],
   "source": [
    "hotel_dataset_clean.isna().sum()"
   ]
  },
  {
   "cell_type": "code",
   "execution_count": 842,
   "id": "b98c9cec",
   "metadata": {},
   "outputs": [
    {
     "data": {
      "text/html": [
       "<div>\n",
       "<style scoped>\n",
       "    .dataframe tbody tr th:only-of-type {\n",
       "        vertical-align: middle;\n",
       "    }\n",
       "\n",
       "    .dataframe tbody tr th {\n",
       "        vertical-align: top;\n",
       "    }\n",
       "\n",
       "    .dataframe thead th {\n",
       "        text-align: right;\n",
       "    }\n",
       "</style>\n",
       "<table border=\"1\" class=\"dataframe\">\n",
       "  <thead>\n",
       "    <tr style=\"text-align: right;\">\n",
       "      <th></th>\n",
       "      <th>hotel</th>\n",
       "      <th>is_canceled</th>\n",
       "      <th>lead_time</th>\n",
       "      <th>arrival_date_month</th>\n",
       "      <th>arrival_date_week_number</th>\n",
       "      <th>arrival_date_day_of_month</th>\n",
       "      <th>stays_in_weekend_nights</th>\n",
       "      <th>stays_in_week_nights</th>\n",
       "      <th>adults</th>\n",
       "      <th>children</th>\n",
       "      <th>...</th>\n",
       "      <th>is_repeated_guest</th>\n",
       "      <th>previous_cancellations</th>\n",
       "      <th>previous_bookings_not_canceled</th>\n",
       "      <th>reserved_room_type</th>\n",
       "      <th>deposit_type</th>\n",
       "      <th>customer_type</th>\n",
       "      <th>average_daily_rate</th>\n",
       "      <th>required_car_parking_spaces</th>\n",
       "      <th>total_of_special_requests</th>\n",
       "      <th>reservation_status_date</th>\n",
       "    </tr>\n",
       "  </thead>\n",
       "  <tbody>\n",
       "  </tbody>\n",
       "</table>\n",
       "<p>0 rows × 24 columns</p>\n",
       "</div>"
      ],
      "text/plain": [
       "Empty DataFrame\n",
       "Columns: [hotel, is_canceled, lead_time, arrival_date_month, arrival_date_week_number, arrival_date_day_of_month, stays_in_weekend_nights, stays_in_week_nights, adults, children, babies, meal, market_segment, distribution_channel, is_repeated_guest, previous_cancellations, previous_bookings_not_canceled, reserved_room_type, deposit_type, customer_type, average_daily_rate, required_car_parking_spaces, total_of_special_requests, reservation_status_date]\n",
       "Index: []\n",
       "\n",
       "[0 rows x 24 columns]"
      ]
     },
     "execution_count": 842,
     "metadata": {},
     "output_type": "execute_result"
    }
   ],
   "source": [
    "hotel_dataset_clean[hotel_dataset_clean['adults'] == 0]"
   ]
  },
  {
   "cell_type": "code",
   "execution_count": 843,
   "id": "48a9a30c",
   "metadata": {},
   "outputs": [
    {
     "data": {
      "text/plain": [
       "(83261, 24)"
      ]
     },
     "execution_count": 843,
     "metadata": {},
     "output_type": "execute_result"
    }
   ],
   "source": [
    "hotel_dataset_clean.shape"
   ]
  },
  {
   "cell_type": "code",
   "execution_count": 844,
   "id": "7b2ab99e",
   "metadata": {},
   "outputs": [
    {
     "data": {
      "text/html": [
       "<div>\n",
       "<style scoped>\n",
       "    .dataframe tbody tr th:only-of-type {\n",
       "        vertical-align: middle;\n",
       "    }\n",
       "\n",
       "    .dataframe tbody tr th {\n",
       "        vertical-align: top;\n",
       "    }\n",
       "\n",
       "    .dataframe thead th {\n",
       "        text-align: right;\n",
       "    }\n",
       "</style>\n",
       "<table border=\"1\" class=\"dataframe\">\n",
       "  <thead>\n",
       "    <tr style=\"text-align: right;\">\n",
       "      <th></th>\n",
       "      <th>hotel</th>\n",
       "      <th>is_canceled</th>\n",
       "      <th>lead_time</th>\n",
       "      <th>arrival_date_month</th>\n",
       "      <th>arrival_date_week_number</th>\n",
       "      <th>arrival_date_day_of_month</th>\n",
       "      <th>stays_in_weekend_nights</th>\n",
       "      <th>stays_in_week_nights</th>\n",
       "      <th>adults</th>\n",
       "      <th>children</th>\n",
       "      <th>...</th>\n",
       "      <th>is_repeated_guest</th>\n",
       "      <th>previous_cancellations</th>\n",
       "      <th>previous_bookings_not_canceled</th>\n",
       "      <th>reserved_room_type</th>\n",
       "      <th>deposit_type</th>\n",
       "      <th>customer_type</th>\n",
       "      <th>average_daily_rate</th>\n",
       "      <th>required_car_parking_spaces</th>\n",
       "      <th>total_of_special_requests</th>\n",
       "      <th>reservation_status_date</th>\n",
       "    </tr>\n",
       "  </thead>\n",
       "  <tbody>\n",
       "    <tr>\n",
       "      <th>0</th>\n",
       "      <td>Resort Hotel</td>\n",
       "      <td>0</td>\n",
       "      <td>28</td>\n",
       "      <td>May</td>\n",
       "      <td>21</td>\n",
       "      <td>19</td>\n",
       "      <td>2</td>\n",
       "      <td>5</td>\n",
       "      <td>3</td>\n",
       "      <td>0</td>\n",
       "      <td>...</td>\n",
       "      <td>0</td>\n",
       "      <td>0</td>\n",
       "      <td>0</td>\n",
       "      <td>A</td>\n",
       "      <td>No Deposit</td>\n",
       "      <td>Transient</td>\n",
       "      <td>79.90</td>\n",
       "      <td>0</td>\n",
       "      <td>2</td>\n",
       "      <td>2016-05-26</td>\n",
       "    </tr>\n",
       "    <tr>\n",
       "      <th>1</th>\n",
       "      <td>City Hotel</td>\n",
       "      <td>0</td>\n",
       "      <td>188</td>\n",
       "      <td>July</td>\n",
       "      <td>27</td>\n",
       "      <td>7</td>\n",
       "      <td>0</td>\n",
       "      <td>1</td>\n",
       "      <td>2</td>\n",
       "      <td>0</td>\n",
       "      <td>...</td>\n",
       "      <td>0</td>\n",
       "      <td>0</td>\n",
       "      <td>0</td>\n",
       "      <td>A</td>\n",
       "      <td>No Deposit</td>\n",
       "      <td>Transient</td>\n",
       "      <td>89.10</td>\n",
       "      <td>0</td>\n",
       "      <td>0</td>\n",
       "      <td>2017-07-08</td>\n",
       "    </tr>\n",
       "    <tr>\n",
       "      <th>2</th>\n",
       "      <td>City Hotel</td>\n",
       "      <td>0</td>\n",
       "      <td>88</td>\n",
       "      <td>March</td>\n",
       "      <td>14</td>\n",
       "      <td>31</td>\n",
       "      <td>0</td>\n",
       "      <td>1</td>\n",
       "      <td>2</td>\n",
       "      <td>0</td>\n",
       "      <td>...</td>\n",
       "      <td>0</td>\n",
       "      <td>0</td>\n",
       "      <td>0</td>\n",
       "      <td>A</td>\n",
       "      <td>No Deposit</td>\n",
       "      <td>Transient</td>\n",
       "      <td>76.50</td>\n",
       "      <td>0</td>\n",
       "      <td>0</td>\n",
       "      <td>2016-04-01</td>\n",
       "    </tr>\n",
       "    <tr>\n",
       "      <th>3</th>\n",
       "      <td>City Hotel</td>\n",
       "      <td>0</td>\n",
       "      <td>121</td>\n",
       "      <td>May</td>\n",
       "      <td>21</td>\n",
       "      <td>27</td>\n",
       "      <td>2</td>\n",
       "      <td>4</td>\n",
       "      <td>2</td>\n",
       "      <td>0</td>\n",
       "      <td>...</td>\n",
       "      <td>0</td>\n",
       "      <td>0</td>\n",
       "      <td>0</td>\n",
       "      <td>A</td>\n",
       "      <td>No Deposit</td>\n",
       "      <td>Transient</td>\n",
       "      <td>89.10</td>\n",
       "      <td>0</td>\n",
       "      <td>2</td>\n",
       "      <td>2017-06-02</td>\n",
       "    </tr>\n",
       "    <tr>\n",
       "      <th>4</th>\n",
       "      <td>City Hotel</td>\n",
       "      <td>0</td>\n",
       "      <td>15</td>\n",
       "      <td>February</td>\n",
       "      <td>5</td>\n",
       "      <td>3</td>\n",
       "      <td>0</td>\n",
       "      <td>1</td>\n",
       "      <td>2</td>\n",
       "      <td>0</td>\n",
       "      <td>...</td>\n",
       "      <td>0</td>\n",
       "      <td>0</td>\n",
       "      <td>0</td>\n",
       "      <td>A</td>\n",
       "      <td>No Deposit</td>\n",
       "      <td>Transient-Party</td>\n",
       "      <td>99.00</td>\n",
       "      <td>0</td>\n",
       "      <td>0</td>\n",
       "      <td>2017-02-04</td>\n",
       "    </tr>\n",
       "    <tr>\n",
       "      <th>...</th>\n",
       "      <td>...</td>\n",
       "      <td>...</td>\n",
       "      <td>...</td>\n",
       "      <td>...</td>\n",
       "      <td>...</td>\n",
       "      <td>...</td>\n",
       "      <td>...</td>\n",
       "      <td>...</td>\n",
       "      <td>...</td>\n",
       "      <td>...</td>\n",
       "      <td>...</td>\n",
       "      <td>...</td>\n",
       "      <td>...</td>\n",
       "      <td>...</td>\n",
       "      <td>...</td>\n",
       "      <td>...</td>\n",
       "      <td>...</td>\n",
       "      <td>...</td>\n",
       "      <td>...</td>\n",
       "      <td>...</td>\n",
       "      <td>...</td>\n",
       "    </tr>\n",
       "    <tr>\n",
       "      <th>47501</th>\n",
       "      <td>City Hotel</td>\n",
       "      <td>1</td>\n",
       "      <td>62</td>\n",
       "      <td>January</td>\n",
       "      <td>2</td>\n",
       "      <td>12</td>\n",
       "      <td>2</td>\n",
       "      <td>3</td>\n",
       "      <td>2</td>\n",
       "      <td>0</td>\n",
       "      <td>...</td>\n",
       "      <td>0</td>\n",
       "      <td>0</td>\n",
       "      <td>0</td>\n",
       "      <td>A</td>\n",
       "      <td>No Deposit</td>\n",
       "      <td>Transient</td>\n",
       "      <td>88.40</td>\n",
       "      <td>0</td>\n",
       "      <td>0</td>\n",
       "      <td>2016-11-12</td>\n",
       "    </tr>\n",
       "    <tr>\n",
       "      <th>47502</th>\n",
       "      <td>Resort Hotel</td>\n",
       "      <td>1</td>\n",
       "      <td>177</td>\n",
       "      <td>August</td>\n",
       "      <td>32</td>\n",
       "      <td>6</td>\n",
       "      <td>2</td>\n",
       "      <td>2</td>\n",
       "      <td>2</td>\n",
       "      <td>0</td>\n",
       "      <td>...</td>\n",
       "      <td>0</td>\n",
       "      <td>0</td>\n",
       "      <td>0</td>\n",
       "      <td>A</td>\n",
       "      <td>No Deposit</td>\n",
       "      <td>Transient</td>\n",
       "      <td>116.50</td>\n",
       "      <td>0</td>\n",
       "      <td>0</td>\n",
       "      <td>2017-02-10</td>\n",
       "    </tr>\n",
       "    <tr>\n",
       "      <th>47503</th>\n",
       "      <td>City Hotel</td>\n",
       "      <td>1</td>\n",
       "      <td>74</td>\n",
       "      <td>March</td>\n",
       "      <td>11</td>\n",
       "      <td>17</td>\n",
       "      <td>1</td>\n",
       "      <td>2</td>\n",
       "      <td>2</td>\n",
       "      <td>0</td>\n",
       "      <td>...</td>\n",
       "      <td>0</td>\n",
       "      <td>0</td>\n",
       "      <td>0</td>\n",
       "      <td>A</td>\n",
       "      <td>No Deposit</td>\n",
       "      <td>Transient</td>\n",
       "      <td>97.20</td>\n",
       "      <td>0</td>\n",
       "      <td>0</td>\n",
       "      <td>2017-01-07</td>\n",
       "    </tr>\n",
       "    <tr>\n",
       "      <th>47504</th>\n",
       "      <td>City Hotel</td>\n",
       "      <td>1</td>\n",
       "      <td>195</td>\n",
       "      <td>August</td>\n",
       "      <td>33</td>\n",
       "      <td>7</td>\n",
       "      <td>2</td>\n",
       "      <td>1</td>\n",
       "      <td>2</td>\n",
       "      <td>0</td>\n",
       "      <td>...</td>\n",
       "      <td>0</td>\n",
       "      <td>0</td>\n",
       "      <td>0</td>\n",
       "      <td>A</td>\n",
       "      <td>No Deposit</td>\n",
       "      <td>Transient</td>\n",
       "      <td>99.00</td>\n",
       "      <td>0</td>\n",
       "      <td>1</td>\n",
       "      <td>2016-04-22</td>\n",
       "    </tr>\n",
       "    <tr>\n",
       "      <th>47505</th>\n",
       "      <td>Resort Hotel</td>\n",
       "      <td>1</td>\n",
       "      <td>195</td>\n",
       "      <td>July</td>\n",
       "      <td>30</td>\n",
       "      <td>23</td>\n",
       "      <td>2</td>\n",
       "      <td>5</td>\n",
       "      <td>2</td>\n",
       "      <td>0</td>\n",
       "      <td>...</td>\n",
       "      <td>0</td>\n",
       "      <td>0</td>\n",
       "      <td>0</td>\n",
       "      <td>A</td>\n",
       "      <td>No Deposit</td>\n",
       "      <td>Transient</td>\n",
       "      <td>153.75</td>\n",
       "      <td>0</td>\n",
       "      <td>0</td>\n",
       "      <td>2017-02-06</td>\n",
       "    </tr>\n",
       "  </tbody>\n",
       "</table>\n",
       "<p>47506 rows × 24 columns</p>\n",
       "</div>"
      ],
      "text/plain": [
       "              hotel  is_canceled  lead_time arrival_date_month  \\\n",
       "0      Resort Hotel            0         28                May   \n",
       "1        City Hotel            0        188               July   \n",
       "2        City Hotel            0         88              March   \n",
       "3        City Hotel            0        121                May   \n",
       "4        City Hotel            0         15           February   \n",
       "...             ...          ...        ...                ...   \n",
       "47501    City Hotel            1         62            January   \n",
       "47502  Resort Hotel            1        177             August   \n",
       "47503    City Hotel            1         74              March   \n",
       "47504    City Hotel            1        195             August   \n",
       "47505  Resort Hotel            1        195               July   \n",
       "\n",
       "       arrival_date_week_number  arrival_date_day_of_month  \\\n",
       "0                            21                         19   \n",
       "1                            27                          7   \n",
       "2                            14                         31   \n",
       "3                            21                         27   \n",
       "4                             5                          3   \n",
       "...                         ...                        ...   \n",
       "47501                         2                         12   \n",
       "47502                        32                          6   \n",
       "47503                        11                         17   \n",
       "47504                        33                          7   \n",
       "47505                        30                         23   \n",
       "\n",
       "       stays_in_weekend_nights  stays_in_week_nights  adults  children  ...  \\\n",
       "0                            2                     5       3         0  ...   \n",
       "1                            0                     1       2         0  ...   \n",
       "2                            0                     1       2         0  ...   \n",
       "3                            2                     4       2         0  ...   \n",
       "4                            0                     1       2         0  ...   \n",
       "...                        ...                   ...     ...       ...  ...   \n",
       "47501                        2                     3       2         0  ...   \n",
       "47502                        2                     2       2         0  ...   \n",
       "47503                        1                     2       2         0  ...   \n",
       "47504                        2                     1       2         0  ...   \n",
       "47505                        2                     5       2         0  ...   \n",
       "\n",
       "       is_repeated_guest previous_cancellations  \\\n",
       "0                      0                      0   \n",
       "1                      0                      0   \n",
       "2                      0                      0   \n",
       "3                      0                      0   \n",
       "4                      0                      0   \n",
       "...                  ...                    ...   \n",
       "47501                  0                      0   \n",
       "47502                  0                      0   \n",
       "47503                  0                      0   \n",
       "47504                  0                      0   \n",
       "47505                  0                      0   \n",
       "\n",
       "      previous_bookings_not_canceled reserved_room_type  deposit_type  \\\n",
       "0                                  0                  A    No Deposit   \n",
       "1                                  0                  A    No Deposit   \n",
       "2                                  0                  A    No Deposit   \n",
       "3                                  0                  A    No Deposit   \n",
       "4                                  0                  A    No Deposit   \n",
       "...                              ...                ...           ...   \n",
       "47501                              0                  A    No Deposit   \n",
       "47502                              0                  A    No Deposit   \n",
       "47503                              0                  A    No Deposit   \n",
       "47504                              0                  A    No Deposit   \n",
       "47505                              0                  A    No Deposit   \n",
       "\n",
       "         customer_type  average_daily_rate required_car_parking_spaces  \\\n",
       "0            Transient               79.90                           0   \n",
       "1            Transient               89.10                           0   \n",
       "2            Transient               76.50                           0   \n",
       "3            Transient               89.10                           0   \n",
       "4      Transient-Party               99.00                           0   \n",
       "...                ...                 ...                         ...   \n",
       "47501        Transient               88.40                           0   \n",
       "47502        Transient              116.50                           0   \n",
       "47503        Transient               97.20                           0   \n",
       "47504        Transient               99.00                           0   \n",
       "47505        Transient              153.75                           0   \n",
       "\n",
       "      total_of_special_requests reservation_status_date  \n",
       "0                             2              2016-05-26  \n",
       "1                             0              2017-07-08  \n",
       "2                             0              2016-04-01  \n",
       "3                             2              2017-06-02  \n",
       "4                             0              2017-02-04  \n",
       "...                         ...                     ...  \n",
       "47501                         0              2016-11-12  \n",
       "47502                         0              2017-02-10  \n",
       "47503                         0              2017-01-07  \n",
       "47504                         1              2016-04-22  \n",
       "47505                         0              2017-02-06  \n",
       "\n",
       "[47506 rows x 24 columns]"
      ]
     },
     "execution_count": 844,
     "metadata": {},
     "output_type": "execute_result"
    }
   ],
   "source": [
    "hotel_dataset_clean_and_balanced"
   ]
  },
  {
   "cell_type": "markdown",
   "id": "2c6d3e56",
   "metadata": {},
   "source": [
    "### EDA"
   ]
  },
  {
   "cell_type": "code",
   "execution_count": 845,
   "id": "b6b4b65e",
   "metadata": {
    "scrolled": true
   },
   "outputs": [
    {
     "data": {
      "text/plain": [
       "<AxesSubplot:xlabel='is_canceled', ylabel='count'>"
      ]
     },
     "execution_count": 845,
     "metadata": {},
     "output_type": "execute_result"
    },
    {
     "data": {
      "image/png": "[encoded data removed]",
      "text/plain": [
       "<Figure size 432x288 with 1 Axes>"
      ]
     },
     "metadata": {},
     "output_type": "display_data"
    }
   ],
   "source": [
    "sns.set_theme(style=\"whitegrid\", palette=\"Set2_r\") #cubehelix_r #CMRmap_r\n",
    "sns.countplot(x=\"is_canceled\" ,data=hotel_dataset_clean)"
   ]
  },
  {
   "cell_type": "markdown",
   "id": "6c3eea47",
   "metadata": {},
   "source": [
    "This chart shows there is unbalance between in the dataset so, in preprocessing part I will balance between them "
   ]
  },
  {
   "cell_type": "code",
   "execution_count": 846,
   "id": "c2dc936c",
   "metadata": {},
   "outputs": [
    {
     "data": {
      "text/plain": [
       "0    62.958372\n",
       "1    37.041628\n",
       "Name: is_canceled, dtype: float64"
      ]
     },
     "execution_count": 846,
     "metadata": {},
     "output_type": "execute_result"
    }
   ],
   "source": [
    "hotel_dataset.is_canceled.value_counts()/ len(hotel_dataset)*100"
   ]
  },
  {
   "cell_type": "code",
   "execution_count": 847,
   "id": "98ba076c",
   "metadata": {},
   "outputs": [
    {
     "data": {
      "text/plain": [
       "0    71.471637\n",
       "1    28.528363\n",
       "Name: is_canceled, dtype: float64"
      ]
     },
     "execution_count": 847,
     "metadata": {},
     "output_type": "execute_result"
    }
   ],
   "source": [
    "hotel_dataset_clean.is_canceled.value_counts()/ len(hotel_dataset_clean)*100"
   ]
  },
  {
   "cell_type": "code",
   "execution_count": 848,
   "id": "74deac76",
   "metadata": {},
   "outputs": [
    {
     "data": {
      "text/plain": [
       "<matplotlib.legend.Legend at 0x1298849b970>"
      ]
     },
     "execution_count": 848,
     "metadata": {},
     "output_type": "execute_result"
    },
    {
     "data": {
      "image/png": "[encoded data removed]",
      "text/plain": [
       "<Figure size 432x288 with 1 Axes>"
      ]
     },
     "metadata": {},
     "output_type": "display_data"
    }
   ],
   "source": [
    "sns.set_theme(style=\"whitegrid\", palette=\"YlGn\")\n",
    "sns.countplot(x=\"adults\", data=hotel_dataset_clean, hue=\"is_canceled\") \n",
    "plt.legend(loc='upper right', title='is_canceled')"
   ]
  },
  {
   "cell_type": "code",
   "execution_count": 849,
   "id": "0b07bb48",
   "metadata": {},
   "outputs": [
    {
     "data": {
      "text/plain": [
       "<AxesSubplot:xlabel='total_of_special_requests', ylabel='Count'>"
      ]
     },
     "execution_count": 849,
     "metadata": {},
     "output_type": "execute_result"
    },
    {
     "data": {
      "image/png": "[encoded data removed]",
      "text/plain": [
       "<Figure size 1080x576 with 1 Axes>"
      ]
     },
     "metadata": {},
     "output_type": "display_data"
    }
   ],
   "source": [
    "%matplotlib inline\n",
    "sns.set_theme(style=\"whitegrid\", palette=\"CMRmap_r\")#Spectral\n",
    "figure= plt.figure(figsize=(15,8))\n",
    "sns.histplot(x=\"total_of_special_requests\", data=hotel_dataset_clean, hue=\"is_canceled\",kde=True)"
   ]
  },
  {
   "cell_type": "code",
   "execution_count": 850,
   "id": "d6d28159",
   "metadata": {},
   "outputs": [
    {
     "data": {
      "text/plain": [
       "<AxesSubplot:xlabel='is_canceled', ylabel='hotel'>"
      ]
     },
     "execution_count": 850,
     "metadata": {},
     "output_type": "execute_result"
    },
    {
     "data": {
      "image/png": "[encoded data removed]",
      "text/plain": [
       "<Figure size 432x288 with 1 Axes>"
      ]
     },
     "metadata": {},
     "output_type": "display_data"
    }
   ],
   "source": [
    "sns.set_theme(style=\"whitegrid\", palette=\"Set2\") #cubehelix_r\n",
    "sns.barplot(y=\"hotel\", data=hotel_dataset_clean, x=\"is_canceled\")"
   ]
  },
  {
   "cell_type": "code",
   "execution_count": 851,
   "id": "fe03b214",
   "metadata": {},
   "outputs": [
    {
     "data": {
      "image/png": "[encoded data removed]",
      "text/plain": [
       "<Figure size 432x432 with 1 Axes>"
      ]
     },
     "metadata": {},
     "output_type": "display_data"
    }
   ],
   "source": [
    "figure= plt.figure(figsize=(6,6))\n",
    "sns.set_theme(style=\"whitegrid\", palette=\"YlGnBu\")\n",
    "hotel_dataset_clean.groupby(\"customer_type\").size().plot(kind=\"pie\",autopct=\"%.2f\");"
   ]
  },
  {
   "cell_type": "code",
   "execution_count": 852,
   "id": "022665a4",
   "metadata": {},
   "outputs": [
    {
     "data": {
      "image/png": "[encoded data removed]",
      "text/plain": [
       "<Figure size 720x360 with 1 Axes>"
      ]
     },
     "metadata": {},
     "output_type": "display_data"
    }
   ],
   "source": [
    "ngroup= hotel_dataset_clean.groupby('is_canceled', as_index= False)[['previous_cancellations']].mean()\n",
    "#sns.set_theme(style=\"whitegrid\", palette=\"CMRmap_r\")\n",
    "plt.figure(figsize=(10,5))\n",
    "plt.title(\"Customers with the history of cancellation\",fontsize=16)\n",
    "history_of_cancellation=sns.barplot(data=ngroup, x=ngroup['is_canceled'], y=ngroup['previous_cancellations'])\n",
    "history_of_cancellation.set_xticklabels(['Not canceled','canceled']);"
   ]
  },
  {
   "cell_type": "code",
   "execution_count": 853,
   "id": "afb2e53a",
   "metadata": {},
   "outputs": [
    {
     "data": {
      "image/png": "[encoded data removed]",
      "text/plain": [
       "<Figure size 720x360 with 1 Axes>"
      ]
     },
     "metadata": {},
     "output_type": "display_data"
    }
   ],
   "source": [
    "# group data for lead_time:\n",
    "lead_cancel_data = hotel_dataset_clean.groupby(\"lead_time\")[\"is_canceled\"].describe()\n",
    "\n",
    "# use only lead_times with more than 10 bookings for graph:\n",
    "lead_cancel_data_10 = lead_cancel_data.loc[lead_cancel_data[\"count\"] >= 10]\n",
    "\n",
    "#show figure:\n",
    "sns.set_theme(style=\"whitegrid\", palette=\"Oranges\")\n",
    "plt.figure(figsize=(10,5))\n",
    "sns.regplot(x=lead_cancel_data_10.index, y=lead_cancel_data_10[\"mean\"].values * 100)\n",
    "plt.title(\"Effect of lead time on cancelation\", fontsize=16)\n",
    "plt.xlabel(\"Lead time\",fontsize=10)\n",
    "plt.ylabel(\"Cancelations [%]\", fontsize=10)\n",
    "# plt.xlim(0,365)\n",
    "plt.show()"
   ]
  },
  {
   "cell_type": "markdown",
   "id": "b6838bbc",
   "metadata": {},
   "source": [
    "#### After balancing "
   ]
  },
  {
   "cell_type": "code",
   "execution_count": 854,
   "id": "892b22ad",
   "metadata": {},
   "outputs": [
    {
     "data": {
      "text/plain": [
       "<AxesSubplot:xlabel='is_canceled', ylabel='count'>"
      ]
     },
     "execution_count": 854,
     "metadata": {},
     "output_type": "execute_result"
    },
    {
     "data": {
      "image/png": "[encoded data removed]",
      "text/plain": [
       "<Figure size 432x288 with 1 Axes>"
      ]
     },
     "metadata": {},
     "output_type": "display_data"
    }
   ],
   "source": [
    "sns.set_theme(style=\"whitegrid\", palette=\"Set2_r\")\n",
    "sns.countplot(x=\"is_canceled\" ,data=hotel_dataset_clean_and_balanced)"
   ]
  },
  {
   "cell_type": "code",
   "execution_count": 855,
   "id": "8952468e",
   "metadata": {},
   "outputs": [
    {
     "data": {
      "text/plain": [
       "0    50.0\n",
       "1    50.0\n",
       "Name: is_canceled, dtype: float64"
      ]
     },
     "execution_count": 855,
     "metadata": {},
     "output_type": "execute_result"
    }
   ],
   "source": [
    "hotel_dataset_clean_and_balanced.is_canceled.value_counts()/ len(hotel_dataset_clean_and_balanced)*100"
   ]
  },
  {
   "cell_type": "code",
   "execution_count": 856,
   "id": "b2db7c6d",
   "metadata": {},
   "outputs": [
    {
     "data": {
      "text/plain": [
       "<matplotlib.legend.Legend at 0x1298355b4f0>"
      ]
     },
     "execution_count": 856,
     "metadata": {},
     "output_type": "execute_result"
    },
    {
     "data": {
      "image/png": "[encoded data removed]",
      "text/plain": [
       "<Figure size 432x288 with 1 Axes>"
      ]
     },
     "metadata": {},
     "output_type": "display_data"
    }
   ],
   "source": [
    "sns.set_theme(style=\"whitegrid\", palette=\"YlGn\")\n",
    "sns.countplot(x=\"adults\", data=hotel_dataset_clean_and_balanced, hue=\"is_canceled\")\n",
    "plt.legend(loc='upper right', title='is_canceled')"
   ]
  },
  {
   "cell_type": "markdown",
   "id": "b8db3cc8",
   "metadata": {},
   "source": [
    "When the number of adults 2 is often tend to cancel the booking, Whereas when one person doesn't tend to cancel.  "
   ]
  },
  {
   "cell_type": "code",
   "execution_count": 857,
   "id": "35beadc2",
   "metadata": {},
   "outputs": [
    {
     "data": {
      "text/plain": [
       "<AxesSubplot:xlabel='total_of_special_requests', ylabel='Count'>"
      ]
     },
     "execution_count": 857,
     "metadata": {},
     "output_type": "execute_result"
    },
    {
     "data": {
      "image/png": "[encoded data removed]",
      "text/plain": [
       "<Figure size 1080x576 with 1 Axes>"
      ]
     },
     "metadata": {},
     "output_type": "display_data"
    }
   ],
   "source": [
    "%matplotlib inline\n",
    "sns.set_theme(style=\"whitegrid\", palette=\"CMRmap_r\")\n",
    "figure= plt.figure(figsize=(15,8))\n",
    "sns.histplot(x=\"total_of_special_requests\", data=hotel_dataset_clean_and_balanced, hue=\"is_canceled\",kde=True)"
   ]
  },
  {
   "cell_type": "markdown",
   "id": "df890d86",
   "metadata": {},
   "source": [
    "Customers who don't have special requests are the highest, but they often tend to cancel, while those with special requests often don't tend to cancel."
   ]
  },
  {
   "cell_type": "code",
   "execution_count": 858,
   "id": "5d7e5f0b",
   "metadata": {},
   "outputs": [
    {
     "data": {
      "text/plain": [
       "<AxesSubplot:xlabel='is_canceled', ylabel='hotel'>"
      ]
     },
     "execution_count": 858,
     "metadata": {},
     "output_type": "execute_result"
    },
    {
     "data": {
      "image/png": "[encoded data removed]",
      "text/plain": [
       "<Figure size 432x288 with 1 Axes>"
      ]
     },
     "metadata": {},
     "output_type": "display_data"
    }
   ],
   "source": [
    "sns.set_theme(style=\"whitegrid\", palette=\"Set2\")\n",
    "sns.barplot(y=\"hotel\", data=hotel_dataset_clean_and_balanced, x=\"is_canceled\")"
   ]
  },
  {
   "cell_type": "markdown",
   "id": "e5671977",
   "metadata": {},
   "source": [
    "Customers in the City Hotel tend to cancel more often.\n"
   ]
  },
  {
   "cell_type": "code",
   "execution_count": 782,
   "id": "0042587c",
   "metadata": {},
   "outputs": [
    {
     "data": {
      "image/png": "[encoded data removed]",
      "text/plain": [
       "<Figure size 720x360 with 1 Axes>"
      ]
     },
     "metadata": {},
     "output_type": "display_data"
    }
   ],
   "source": [
    "ngroup= hotel_dataset_clean_and_balanced.groupby('is_canceled', as_index= False)[['previous_cancellations']].mean()\n",
    "sns.set_theme(style=\"whitegrid\", palette=\"YlGnBu\")\n",
    "plt.figure(figsize=(10,5))\n",
    "plt.title(\"Customers with the history of cancellation\",fontsize=16)\n",
    "history_of_cancellation=sns.barplot(data=ngroup, x=ngroup['is_canceled'], y=ngroup['previous_cancellations'])\n",
    "history_of_cancellation.set_xticklabels(['Not canceled','canceled']);"
   ]
  },
  {
   "cell_type": "markdown",
   "id": "40c2bc24",
   "metadata": {},
   "source": [
    "Customers with the history of cancellation tend to cancel more often.\n",
    "Interestingly repeated guests tend to cancel more"
   ]
  },
  {
   "cell_type": "code",
   "execution_count": 892,
   "id": "578feb11",
   "metadata": {},
   "outputs": [
    {
     "data": {
      "image/png": "[encoded data removed]",
      "text/plain": [
       "<Figure size 720x360 with 1 Axes>"
      ]
     },
     "metadata": {},
     "output_type": "display_data"
    }
   ],
   "source": [
    "# group data for lead_time:\n",
    "lead_cancel_data = hotel_dataset_clean_and_balanced.groupby(\"lead_time\")[\"is_canceled\"].describe()\n",
    "\n",
    "# use only lead_times with more than 10 bookings for graph:\n",
    "lead_cancel_data_10 = lead_cancel_data.loc[lead_cancel_data[\"count\"] >= 10]\n",
    "\n",
    "#show figure:\n",
    "sns.set_theme(style=\"whitegrid\", palette=\"Oranges\")\n",
    "plt.figure(figsize=(10,5))\n",
    "sns.regplot(x=lead_cancel_data_10.index, y=lead_cancel_data_10[\"mean\"].values * 100)\n",
    "plt.title(\"Effect of lead time on cancelation\", fontsize=16)\n",
    "plt.xlabel(\"Lead time\",fontsize=10)\n",
    "plt.ylabel(\"Cancelations [%]\", fontsize=10)\n",
    "# plt.xlim(0,365)\n",
    "plt.show()"
   ]
  },
  {
   "cell_type": "markdown",
   "id": "89df347f",
   "metadata": {},
   "source": [
    "Bookings made a few days before the arrival date are rarely canceled, whereas bookings made over one year in advance are canceled very often."
   ]
  },
  {
   "cell_type": "markdown",
   "id": "2b553452",
   "metadata": {},
   "source": [
    "### Preprocessing "
   ]
  },
  {
   "cell_type": "code",
   "execution_count": 784,
   "id": "54e939ef",
   "metadata": {},
   "outputs": [],
   "source": [
    "hotel_dataset_clean_and_balanced.loc[hotel_dataset_clean_and_balanced['hotel'] == 'Resort Hotel', 'hotel'] = 0\n",
    "hotel_dataset_clean_and_balanced.loc[hotel_dataset_clean_and_balanced['hotel'] == 'City Hotel', 'hotel'] = 1"
   ]
  },
  {
   "cell_type": "code",
   "execution_count": 785,
   "id": "3a63a18b",
   "metadata": {},
   "outputs": [],
   "source": [
    "hotel_dataset_clean_and_balanced.loc[hotel_dataset_clean_and_balanced['arrival_date_month'] == 'January', 'arrival_date_month'] = 1\n",
    "hotel_dataset_clean_and_balanced.loc[hotel_dataset_clean_and_balanced['arrival_date_month'] == 'February', 'arrival_date_month'] = 2\n",
    "hotel_dataset_clean_and_balanced.loc[hotel_dataset_clean_and_balanced['arrival_date_month'] == 'March', 'arrival_date_month'] = 3\n",
    "hotel_dataset_clean_and_balanced.loc[hotel_dataset_clean_and_balanced['arrival_date_month'] == 'April', 'arrival_date_month'] = 4\n",
    "hotel_dataset_clean_and_balanced.loc[hotel_dataset_clean_and_balanced['arrival_date_month'] == 'May', 'arrival_date_month'] = 5\n",
    "hotel_dataset_clean_and_balanced.loc[hotel_dataset_clean_and_balanced['arrival_date_month'] == 'June', 'arrival_date_month'] = 6\n",
    "hotel_dataset_clean_and_balanced.loc[hotel_dataset_clean_and_balanced['arrival_date_month'] == 'July', 'arrival_date_month'] = 7\n",
    "hotel_dataset_clean_and_balanced.loc[hotel_dataset_clean_and_balanced['arrival_date_month'] == 'August', 'arrival_date_month'] = 8\n",
    "hotel_dataset_clean_and_balanced.loc[hotel_dataset_clean_and_balanced['arrival_date_month'] == 'September', 'arrival_date_month'] = 9\n",
    "hotel_dataset_clean_and_balanced.loc[hotel_dataset_clean_and_balanced['arrival_date_month'] == 'October', 'arrival_date_month'] = 10\n",
    "hotel_dataset_clean_and_balanced.loc[hotel_dataset_clean_and_balanced['arrival_date_month'] == 'November', 'arrival_date_month'] = 11\n",
    "hotel_dataset_clean_and_balanced.loc[hotel_dataset_clean_and_balanced['arrival_date_month'] == 'December', 'arrival_date_month'] = 12"
   ]
  },
  {
   "cell_type": "code",
   "execution_count": 786,
   "id": "70b91822",
   "metadata": {},
   "outputs": [],
   "source": [
    "hotel_dataset_clean_and_balanced = hotel_dataset_clean_and_balanced.astype({'arrival_date_month':'int64'})"
   ]
  },
  {
   "cell_type": "code",
   "execution_count": 787,
   "id": "d0a39e4b",
   "metadata": {},
   "outputs": [],
   "source": [
    "def cnvt_date_to_num(x):\n",
    "  return int(x.day*(10**6) + x.month*(10**4) + x.year)\n",
    "\n",
    "# Apply the above function to both reservation_status_date and arrival_date\n",
    "hotel_dataset_clean_and_balanced['reservation_status_date'] = pd.to_datetime(hotel_dataset_clean_and_balanced['reservation_status_date']).apply(lambda x : cnvt_date_to_num(x))\n",
    "#hotel_dataset_clean_and_balanced['arrival_date'] = hotel_dataset_clean_and_balanced['arrival_date'].apply(lambda x : cnvt_date_to_num(x))"
   ]
  },
  {
   "cell_type": "code",
   "execution_count": 788,
   "id": "ab72379a",
   "metadata": {},
   "outputs": [],
   "source": [
    "hotel_dataset_clean_and_balanced = hotel_dataset_clean_and_balanced.astype({'reservation_status_date':'int64'})"
   ]
  },
  {
   "cell_type": "code",
   "execution_count": 789,
   "id": "60947752",
   "metadata": {},
   "outputs": [
    {
     "data": {
      "text/html": [
       "<div>\n",
       "<style scoped>\n",
       "    .dataframe tbody tr th:only-of-type {\n",
       "        vertical-align: middle;\n",
       "    }\n",
       "\n",
       "    .dataframe tbody tr th {\n",
       "        vertical-align: top;\n",
       "    }\n",
       "\n",
       "    .dataframe thead th {\n",
       "        text-align: right;\n",
       "    }\n",
       "</style>\n",
       "<table border=\"1\" class=\"dataframe\">\n",
       "  <thead>\n",
       "    <tr style=\"text-align: right;\">\n",
       "      <th></th>\n",
       "      <th>hotel</th>\n",
       "      <th>is_canceled</th>\n",
       "      <th>lead_time</th>\n",
       "      <th>arrival_date_month</th>\n",
       "      <th>arrival_date_week_number</th>\n",
       "      <th>arrival_date_day_of_month</th>\n",
       "      <th>stays_in_weekend_nights</th>\n",
       "      <th>stays_in_week_nights</th>\n",
       "      <th>adults</th>\n",
       "      <th>children</th>\n",
       "      <th>...</th>\n",
       "      <th>is_repeated_guest</th>\n",
       "      <th>previous_cancellations</th>\n",
       "      <th>previous_bookings_not_canceled</th>\n",
       "      <th>reserved_room_type</th>\n",
       "      <th>deposit_type</th>\n",
       "      <th>customer_type</th>\n",
       "      <th>average_daily_rate</th>\n",
       "      <th>required_car_parking_spaces</th>\n",
       "      <th>total_of_special_requests</th>\n",
       "      <th>reservation_status_date</th>\n",
       "    </tr>\n",
       "  </thead>\n",
       "  <tbody>\n",
       "    <tr>\n",
       "      <th>0</th>\n",
       "      <td>0</td>\n",
       "      <td>0</td>\n",
       "      <td>336</td>\n",
       "      <td>9</td>\n",
       "      <td>38</td>\n",
       "      <td>15</td>\n",
       "      <td>0</td>\n",
       "      <td>3</td>\n",
       "      <td>2</td>\n",
       "      <td>0</td>\n",
       "      <td>...</td>\n",
       "      <td>0</td>\n",
       "      <td>0</td>\n",
       "      <td>0</td>\n",
       "      <td>A</td>\n",
       "      <td>No Deposit</td>\n",
       "      <td>Transient-Party</td>\n",
       "      <td>66.00</td>\n",
       "      <td>0</td>\n",
       "      <td>1</td>\n",
       "      <td>18092016</td>\n",
       "    </tr>\n",
       "    <tr>\n",
       "      <th>1</th>\n",
       "      <td>1</td>\n",
       "      <td>0</td>\n",
       "      <td>0</td>\n",
       "      <td>10</td>\n",
       "      <td>41</td>\n",
       "      <td>6</td>\n",
       "      <td>0</td>\n",
       "      <td>1</td>\n",
       "      <td>2</td>\n",
       "      <td>0</td>\n",
       "      <td>...</td>\n",
       "      <td>0</td>\n",
       "      <td>0</td>\n",
       "      <td>0</td>\n",
       "      <td>A</td>\n",
       "      <td>No Deposit</td>\n",
       "      <td>Contract</td>\n",
       "      <td>114.00</td>\n",
       "      <td>0</td>\n",
       "      <td>2</td>\n",
       "      <td>7102015</td>\n",
       "    </tr>\n",
       "    <tr>\n",
       "      <th>2</th>\n",
       "      <td>0</td>\n",
       "      <td>0</td>\n",
       "      <td>270</td>\n",
       "      <td>5</td>\n",
       "      <td>21</td>\n",
       "      <td>21</td>\n",
       "      <td>2</td>\n",
       "      <td>5</td>\n",
       "      <td>2</td>\n",
       "      <td>0</td>\n",
       "      <td>...</td>\n",
       "      <td>0</td>\n",
       "      <td>0</td>\n",
       "      <td>0</td>\n",
       "      <td>D</td>\n",
       "      <td>No Deposit</td>\n",
       "      <td>Contract</td>\n",
       "      <td>52.85</td>\n",
       "      <td>0</td>\n",
       "      <td>0</td>\n",
       "      <td>28052017</td>\n",
       "    </tr>\n",
       "    <tr>\n",
       "      <th>3</th>\n",
       "      <td>1</td>\n",
       "      <td>0</td>\n",
       "      <td>0</td>\n",
       "      <td>1</td>\n",
       "      <td>2</td>\n",
       "      <td>8</td>\n",
       "      <td>0</td>\n",
       "      <td>1</td>\n",
       "      <td>2</td>\n",
       "      <td>0</td>\n",
       "      <td>...</td>\n",
       "      <td>0</td>\n",
       "      <td>0</td>\n",
       "      <td>0</td>\n",
       "      <td>A</td>\n",
       "      <td>No Deposit</td>\n",
       "      <td>Transient</td>\n",
       "      <td>67.50</td>\n",
       "      <td>0</td>\n",
       "      <td>0</td>\n",
       "      <td>9012016</td>\n",
       "    </tr>\n",
       "    <tr>\n",
       "      <th>4</th>\n",
       "      <td>0</td>\n",
       "      <td>0</td>\n",
       "      <td>13</td>\n",
       "      <td>12</td>\n",
       "      <td>50</td>\n",
       "      <td>6</td>\n",
       "      <td>1</td>\n",
       "      <td>5</td>\n",
       "      <td>1</td>\n",
       "      <td>0</td>\n",
       "      <td>...</td>\n",
       "      <td>0</td>\n",
       "      <td>0</td>\n",
       "      <td>0</td>\n",
       "      <td>E</td>\n",
       "      <td>No Deposit</td>\n",
       "      <td>Transient</td>\n",
       "      <td>50.00</td>\n",
       "      <td>0</td>\n",
       "      <td>0</td>\n",
       "      <td>12122016</td>\n",
       "    </tr>\n",
       "    <tr>\n",
       "      <th>...</th>\n",
       "      <td>...</td>\n",
       "      <td>...</td>\n",
       "      <td>...</td>\n",
       "      <td>...</td>\n",
       "      <td>...</td>\n",
       "      <td>...</td>\n",
       "      <td>...</td>\n",
       "      <td>...</td>\n",
       "      <td>...</td>\n",
       "      <td>...</td>\n",
       "      <td>...</td>\n",
       "      <td>...</td>\n",
       "      <td>...</td>\n",
       "      <td>...</td>\n",
       "      <td>...</td>\n",
       "      <td>...</td>\n",
       "      <td>...</td>\n",
       "      <td>...</td>\n",
       "      <td>...</td>\n",
       "      <td>...</td>\n",
       "      <td>...</td>\n",
       "    </tr>\n",
       "    <tr>\n",
       "      <th>47501</th>\n",
       "      <td>1</td>\n",
       "      <td>1</td>\n",
       "      <td>88</td>\n",
       "      <td>5</td>\n",
       "      <td>19</td>\n",
       "      <td>2</td>\n",
       "      <td>1</td>\n",
       "      <td>2</td>\n",
       "      <td>2</td>\n",
       "      <td>0</td>\n",
       "      <td>...</td>\n",
       "      <td>0</td>\n",
       "      <td>0</td>\n",
       "      <td>0</td>\n",
       "      <td>A</td>\n",
       "      <td>No Deposit</td>\n",
       "      <td>Transient</td>\n",
       "      <td>116.10</td>\n",
       "      <td>0</td>\n",
       "      <td>0</td>\n",
       "      <td>10042016</td>\n",
       "    </tr>\n",
       "    <tr>\n",
       "      <th>47502</th>\n",
       "      <td>1</td>\n",
       "      <td>1</td>\n",
       "      <td>142</td>\n",
       "      <td>10</td>\n",
       "      <td>44</td>\n",
       "      <td>27</td>\n",
       "      <td>0</td>\n",
       "      <td>1</td>\n",
       "      <td>2</td>\n",
       "      <td>0</td>\n",
       "      <td>...</td>\n",
       "      <td>0</td>\n",
       "      <td>0</td>\n",
       "      <td>0</td>\n",
       "      <td>A</td>\n",
       "      <td>No Deposit</td>\n",
       "      <td>Transient</td>\n",
       "      <td>90.90</td>\n",
       "      <td>0</td>\n",
       "      <td>1</td>\n",
       "      <td>24102016</td>\n",
       "    </tr>\n",
       "    <tr>\n",
       "      <th>47503</th>\n",
       "      <td>0</td>\n",
       "      <td>1</td>\n",
       "      <td>63</td>\n",
       "      <td>5</td>\n",
       "      <td>23</td>\n",
       "      <td>31</td>\n",
       "      <td>0</td>\n",
       "      <td>5</td>\n",
       "      <td>2</td>\n",
       "      <td>0</td>\n",
       "      <td>...</td>\n",
       "      <td>0</td>\n",
       "      <td>0</td>\n",
       "      <td>0</td>\n",
       "      <td>A</td>\n",
       "      <td>No Deposit</td>\n",
       "      <td>Transient</td>\n",
       "      <td>105.80</td>\n",
       "      <td>0</td>\n",
       "      <td>1</td>\n",
       "      <td>13052016</td>\n",
       "    </tr>\n",
       "    <tr>\n",
       "      <th>47504</th>\n",
       "      <td>0</td>\n",
       "      <td>1</td>\n",
       "      <td>11</td>\n",
       "      <td>3</td>\n",
       "      <td>13</td>\n",
       "      <td>24</td>\n",
       "      <td>0</td>\n",
       "      <td>1</td>\n",
       "      <td>2</td>\n",
       "      <td>0</td>\n",
       "      <td>...</td>\n",
       "      <td>0</td>\n",
       "      <td>0</td>\n",
       "      <td>0</td>\n",
       "      <td>A</td>\n",
       "      <td>No Deposit</td>\n",
       "      <td>Transient</td>\n",
       "      <td>85.00</td>\n",
       "      <td>0</td>\n",
       "      <td>1</td>\n",
       "      <td>24032016</td>\n",
       "    </tr>\n",
       "    <tr>\n",
       "      <th>47505</th>\n",
       "      <td>1</td>\n",
       "      <td>1</td>\n",
       "      <td>113</td>\n",
       "      <td>6</td>\n",
       "      <td>25</td>\n",
       "      <td>13</td>\n",
       "      <td>2</td>\n",
       "      <td>5</td>\n",
       "      <td>2</td>\n",
       "      <td>0</td>\n",
       "      <td>...</td>\n",
       "      <td>0</td>\n",
       "      <td>0</td>\n",
       "      <td>0</td>\n",
       "      <td>A</td>\n",
       "      <td>No Deposit</td>\n",
       "      <td>Transient</td>\n",
       "      <td>119.85</td>\n",
       "      <td>0</td>\n",
       "      <td>0</td>\n",
       "      <td>21022016</td>\n",
       "    </tr>\n",
       "  </tbody>\n",
       "</table>\n",
       "<p>47506 rows × 24 columns</p>\n",
       "</div>"
      ],
      "text/plain": [
       "      hotel  is_canceled  lead_time  arrival_date_month  \\\n",
       "0         0            0        336                   9   \n",
       "1         1            0          0                  10   \n",
       "2         0            0        270                   5   \n",
       "3         1            0          0                   1   \n",
       "4         0            0         13                  12   \n",
       "...     ...          ...        ...                 ...   \n",
       "47501     1            1         88                   5   \n",
       "47502     1            1        142                  10   \n",
       "47503     0            1         63                   5   \n",
       "47504     0            1         11                   3   \n",
       "47505     1            1        113                   6   \n",
       "\n",
       "       arrival_date_week_number  arrival_date_day_of_month  \\\n",
       "0                            38                         15   \n",
       "1                            41                          6   \n",
       "2                            21                         21   \n",
       "3                             2                          8   \n",
       "4                            50                          6   \n",
       "...                         ...                        ...   \n",
       "47501                        19                          2   \n",
       "47502                        44                         27   \n",
       "47503                        23                         31   \n",
       "47504                        13                         24   \n",
       "47505                        25                         13   \n",
       "\n",
       "       stays_in_weekend_nights  stays_in_week_nights  adults  children  ...  \\\n",
       "0                            0                     3       2         0  ...   \n",
       "1                            0                     1       2         0  ...   \n",
       "2                            2                     5       2         0  ...   \n",
       "3                            0                     1       2         0  ...   \n",
       "4                            1                     5       1         0  ...   \n",
       "...                        ...                   ...     ...       ...  ...   \n",
       "47501                        1                     2       2         0  ...   \n",
       "47502                        0                     1       2         0  ...   \n",
       "47503                        0                     5       2         0  ...   \n",
       "47504                        0                     1       2         0  ...   \n",
       "47505                        2                     5       2         0  ...   \n",
       "\n",
       "       is_repeated_guest previous_cancellations  \\\n",
       "0                      0                      0   \n",
       "1                      0                      0   \n",
       "2                      0                      0   \n",
       "3                      0                      0   \n",
       "4                      0                      0   \n",
       "...                  ...                    ...   \n",
       "47501                  0                      0   \n",
       "47502                  0                      0   \n",
       "47503                  0                      0   \n",
       "47504                  0                      0   \n",
       "47505                  0                      0   \n",
       "\n",
       "      previous_bookings_not_canceled reserved_room_type  deposit_type  \\\n",
       "0                                  0                  A    No Deposit   \n",
       "1                                  0                  A    No Deposit   \n",
       "2                                  0                  D    No Deposit   \n",
       "3                                  0                  A    No Deposit   \n",
       "4                                  0                  E    No Deposit   \n",
       "...                              ...                ...           ...   \n",
       "47501                              0                  A    No Deposit   \n",
       "47502                              0                  A    No Deposit   \n",
       "47503                              0                  A    No Deposit   \n",
       "47504                              0                  A    No Deposit   \n",
       "47505                              0                  A    No Deposit   \n",
       "\n",
       "         customer_type  average_daily_rate required_car_parking_spaces  \\\n",
       "0      Transient-Party               66.00                           0   \n",
       "1             Contract              114.00                           0   \n",
       "2             Contract               52.85                           0   \n",
       "3            Transient               67.50                           0   \n",
       "4            Transient               50.00                           0   \n",
       "...                ...                 ...                         ...   \n",
       "47501        Transient              116.10                           0   \n",
       "47502        Transient               90.90                           0   \n",
       "47503        Transient              105.80                           0   \n",
       "47504        Transient               85.00                           0   \n",
       "47505        Transient              119.85                           0   \n",
       "\n",
       "      total_of_special_requests reservation_status_date  \n",
       "0                             1                18092016  \n",
       "1                             2                 7102015  \n",
       "2                             0                28052017  \n",
       "3                             0                 9012016  \n",
       "4                             0                12122016  \n",
       "...                         ...                     ...  \n",
       "47501                         0                10042016  \n",
       "47502                         1                24102016  \n",
       "47503                         1                13052016  \n",
       "47504                         1                24032016  \n",
       "47505                         0                21022016  \n",
       "\n",
       "[47506 rows x 24 columns]"
      ]
     },
     "execution_count": 789,
     "metadata": {},
     "output_type": "execute_result"
    }
   ],
   "source": [
    "hotel_dataset_clean_and_balanced"
   ]
  },
  {
   "cell_type": "code",
   "execution_count": 790,
   "id": "ccca8927",
   "metadata": {},
   "outputs": [
    {
     "name": "stdout",
     "output_type": "stream",
     "text": [
      "<class 'pandas.core.frame.DataFrame'>\n",
      "RangeIndex: 47506 entries, 0 to 47505\n",
      "Data columns (total 24 columns):\n",
      " #   Column                          Non-Null Count  Dtype  \n",
      "---  ------                          --------------  -----  \n",
      " 0   hotel                           47506 non-null  object \n",
      " 1   is_canceled                     47506 non-null  int64  \n",
      " 2   lead_time                       47506 non-null  int64  \n",
      " 3   arrival_date_month              47506 non-null  int64  \n",
      " 4   arrival_date_week_number        47506 non-null  int64  \n",
      " 5   arrival_date_day_of_month       47506 non-null  int64  \n",
      " 6   stays_in_weekend_nights         47506 non-null  int64  \n",
      " 7   stays_in_week_nights            47506 non-null  int64  \n",
      " 8   adults                          47506 non-null  int64  \n",
      " 9   children                        47506 non-null  int64  \n",
      " 10  babies                          47506 non-null  int64  \n",
      " 11  meal                            47506 non-null  object \n",
      " 12  market_segment                  47506 non-null  object \n",
      " 13  distribution_channel            47506 non-null  object \n",
      " 14  is_repeated_guest               47506 non-null  int64  \n",
      " 15  previous_cancellations          47506 non-null  int64  \n",
      " 16  previous_bookings_not_canceled  47506 non-null  int64  \n",
      " 17  reserved_room_type              47506 non-null  object \n",
      " 18  deposit_type                    47506 non-null  object \n",
      " 19  customer_type                   47506 non-null  object \n",
      " 20  average_daily_rate              47506 non-null  float64\n",
      " 21  required_car_parking_spaces     47506 non-null  int64  \n",
      " 22  total_of_special_requests       47506 non-null  int64  \n",
      " 23  reservation_status_date         47506 non-null  int64  \n",
      "dtypes: float64(1), int64(16), object(7)\n",
      "memory usage: 8.7+ MB\n"
     ]
    }
   ],
   "source": [
    "hotel_dataset_clean_and_balanced.info()"
   ]
  },
  {
   "cell_type": "code",
   "execution_count": 791,
   "id": "12809703",
   "metadata": {},
   "outputs": [],
   "source": [
    "hotel_dataset_clean_and_balanced=pd.get_dummies(hotel_dataset_clean_and_balanced, drop_first=True)"
   ]
  },
  {
   "cell_type": "code",
   "execution_count": 792,
   "id": "954fabf7",
   "metadata": {},
   "outputs": [
    {
     "data": {
      "text/html": [
       "<div>\n",
       "<style scoped>\n",
       "    .dataframe tbody tr th:only-of-type {\n",
       "        vertical-align: middle;\n",
       "    }\n",
       "\n",
       "    .dataframe tbody tr th {\n",
       "        vertical-align: top;\n",
       "    }\n",
       "\n",
       "    .dataframe thead th {\n",
       "        text-align: right;\n",
       "    }\n",
       "</style>\n",
       "<table border=\"1\" class=\"dataframe\">\n",
       "  <thead>\n",
       "    <tr style=\"text-align: right;\">\n",
       "      <th></th>\n",
       "      <th>is_canceled</th>\n",
       "      <th>lead_time</th>\n",
       "      <th>arrival_date_month</th>\n",
       "      <th>arrival_date_week_number</th>\n",
       "      <th>arrival_date_day_of_month</th>\n",
       "      <th>stays_in_weekend_nights</th>\n",
       "      <th>stays_in_week_nights</th>\n",
       "      <th>adults</th>\n",
       "      <th>children</th>\n",
       "      <th>babies</th>\n",
       "      <th>...</th>\n",
       "      <th>reserved_room_type_E</th>\n",
       "      <th>reserved_room_type_F</th>\n",
       "      <th>reserved_room_type_G</th>\n",
       "      <th>reserved_room_type_H</th>\n",
       "      <th>reserved_room_type_L</th>\n",
       "      <th>deposit_type_Non Refund</th>\n",
       "      <th>deposit_type_Refundable</th>\n",
       "      <th>customer_type_Group</th>\n",
       "      <th>customer_type_Transient</th>\n",
       "      <th>customer_type_Transient-Party</th>\n",
       "    </tr>\n",
       "  </thead>\n",
       "  <tbody>\n",
       "    <tr>\n",
       "      <th>0</th>\n",
       "      <td>0</td>\n",
       "      <td>336</td>\n",
       "      <td>9</td>\n",
       "      <td>38</td>\n",
       "      <td>15</td>\n",
       "      <td>0</td>\n",
       "      <td>3</td>\n",
       "      <td>2</td>\n",
       "      <td>0</td>\n",
       "      <td>0</td>\n",
       "      <td>...</td>\n",
       "      <td>0</td>\n",
       "      <td>0</td>\n",
       "      <td>0</td>\n",
       "      <td>0</td>\n",
       "      <td>0</td>\n",
       "      <td>0</td>\n",
       "      <td>0</td>\n",
       "      <td>0</td>\n",
       "      <td>0</td>\n",
       "      <td>1</td>\n",
       "    </tr>\n",
       "    <tr>\n",
       "      <th>1</th>\n",
       "      <td>0</td>\n",
       "      <td>0</td>\n",
       "      <td>10</td>\n",
       "      <td>41</td>\n",
       "      <td>6</td>\n",
       "      <td>0</td>\n",
       "      <td>1</td>\n",
       "      <td>2</td>\n",
       "      <td>0</td>\n",
       "      <td>0</td>\n",
       "      <td>...</td>\n",
       "      <td>0</td>\n",
       "      <td>0</td>\n",
       "      <td>0</td>\n",
       "      <td>0</td>\n",
       "      <td>0</td>\n",
       "      <td>0</td>\n",
       "      <td>0</td>\n",
       "      <td>0</td>\n",
       "      <td>0</td>\n",
       "      <td>0</td>\n",
       "    </tr>\n",
       "    <tr>\n",
       "      <th>2</th>\n",
       "      <td>0</td>\n",
       "      <td>270</td>\n",
       "      <td>5</td>\n",
       "      <td>21</td>\n",
       "      <td>21</td>\n",
       "      <td>2</td>\n",
       "      <td>5</td>\n",
       "      <td>2</td>\n",
       "      <td>0</td>\n",
       "      <td>0</td>\n",
       "      <td>...</td>\n",
       "      <td>0</td>\n",
       "      <td>0</td>\n",
       "      <td>0</td>\n",
       "      <td>0</td>\n",
       "      <td>0</td>\n",
       "      <td>0</td>\n",
       "      <td>0</td>\n",
       "      <td>0</td>\n",
       "      <td>0</td>\n",
       "      <td>0</td>\n",
       "    </tr>\n",
       "    <tr>\n",
       "      <th>3</th>\n",
       "      <td>0</td>\n",
       "      <td>0</td>\n",
       "      <td>1</td>\n",
       "      <td>2</td>\n",
       "      <td>8</td>\n",
       "      <td>0</td>\n",
       "      <td>1</td>\n",
       "      <td>2</td>\n",
       "      <td>0</td>\n",
       "      <td>0</td>\n",
       "      <td>...</td>\n",
       "      <td>0</td>\n",
       "      <td>0</td>\n",
       "      <td>0</td>\n",
       "      <td>0</td>\n",
       "      <td>0</td>\n",
       "      <td>0</td>\n",
       "      <td>0</td>\n",
       "      <td>0</td>\n",
       "      <td>1</td>\n",
       "      <td>0</td>\n",
       "    </tr>\n",
       "    <tr>\n",
       "      <th>4</th>\n",
       "      <td>0</td>\n",
       "      <td>13</td>\n",
       "      <td>12</td>\n",
       "      <td>50</td>\n",
       "      <td>6</td>\n",
       "      <td>1</td>\n",
       "      <td>5</td>\n",
       "      <td>1</td>\n",
       "      <td>0</td>\n",
       "      <td>0</td>\n",
       "      <td>...</td>\n",
       "      <td>1</td>\n",
       "      <td>0</td>\n",
       "      <td>0</td>\n",
       "      <td>0</td>\n",
       "      <td>0</td>\n",
       "      <td>0</td>\n",
       "      <td>0</td>\n",
       "      <td>0</td>\n",
       "      <td>1</td>\n",
       "      <td>0</td>\n",
       "    </tr>\n",
       "  </tbody>\n",
       "</table>\n",
       "<p>5 rows × 46 columns</p>\n",
       "</div>"
      ],
      "text/plain": [
       "   is_canceled  lead_time  arrival_date_month  arrival_date_week_number  \\\n",
       "0            0        336                   9                        38   \n",
       "1            0          0                  10                        41   \n",
       "2            0        270                   5                        21   \n",
       "3            0          0                   1                         2   \n",
       "4            0         13                  12                        50   \n",
       "\n",
       "   arrival_date_day_of_month  stays_in_weekend_nights  stays_in_week_nights  \\\n",
       "0                         15                        0                     3   \n",
       "1                          6                        0                     1   \n",
       "2                         21                        2                     5   \n",
       "3                          8                        0                     1   \n",
       "4                          6                        1                     5   \n",
       "\n",
       "   adults  children  babies  ...  reserved_room_type_E  reserved_room_type_F  \\\n",
       "0       2         0       0  ...                     0                     0   \n",
       "1       2         0       0  ...                     0                     0   \n",
       "2       2         0       0  ...                     0                     0   \n",
       "3       2         0       0  ...                     0                     0   \n",
       "4       1         0       0  ...                     1                     0   \n",
       "\n",
       "   reserved_room_type_G  reserved_room_type_H  reserved_room_type_L  \\\n",
       "0                     0                     0                     0   \n",
       "1                     0                     0                     0   \n",
       "2                     0                     0                     0   \n",
       "3                     0                     0                     0   \n",
       "4                     0                     0                     0   \n",
       "\n",
       "   deposit_type_Non Refund  deposit_type_Refundable  customer_type_Group  \\\n",
       "0                        0                        0                    0   \n",
       "1                        0                        0                    0   \n",
       "2                        0                        0                    0   \n",
       "3                        0                        0                    0   \n",
       "4                        0                        0                    0   \n",
       "\n",
       "   customer_type_Transient  customer_type_Transient-Party  \n",
       "0                        0                              1  \n",
       "1                        0                              0  \n",
       "2                        0                              0  \n",
       "3                        1                              0  \n",
       "4                        1                              0  \n",
       "\n",
       "[5 rows x 46 columns]"
      ]
     },
     "execution_count": 792,
     "metadata": {},
     "output_type": "execute_result"
    }
   ],
   "source": [
    "hotel_dataset_clean_and_balanced.head()"
   ]
  },
  {
   "cell_type": "markdown",
   "id": "2af9398d",
   "metadata": {},
   "source": [
    "### Modelling "
   ]
  },
  {
   "cell_type": "code",
   "execution_count": 793,
   "id": "f589cec1",
   "metadata": {},
   "outputs": [],
   "source": [
    "from sklearn.model_selection import train_test_split\n",
    "from sklearn.metrics import accuracy_score\n",
    "from sklearn.model_selection import cross_val_score\n",
    "from sklearn.metrics import precision_score, recall_score, precision_recall_curve,f1_score, fbeta_score\n",
    "from sklearn.metrics import confusion_matrix\n",
    "from sklearn import datasets\n",
    "from sklearn.metrics import roc_auc_score, roc_curve"
   ]
  },
  {
   "cell_type": "code",
   "execution_count": 794,
   "id": "4662b01c",
   "metadata": {},
   "outputs": [],
   "source": [
    "#Logistic Regration Model\n",
    "X = hotel_dataset_clean_and_balanced.drop(columns=['is_canceled'])\n",
    "y = hotel_dataset_clean_and_balanced['is_canceled']"
   ]
  },
  {
   "cell_type": "code",
   "execution_count": 795,
   "id": "6494c308",
   "metadata": {},
   "outputs": [],
   "source": [
    "X_train, X_test, y_train, y_test = train_test_split(X, y, test_size=0.30, random_state=42)"
   ]
  },
  {
   "cell_type": "code",
   "execution_count": 796,
   "id": "9fcdba9e",
   "metadata": {},
   "outputs": [
    {
     "data": {
      "text/html": [
       "<div>\n",
       "<style scoped>\n",
       "    .dataframe tbody tr th:only-of-type {\n",
       "        vertical-align: middle;\n",
       "    }\n",
       "\n",
       "    .dataframe tbody tr th {\n",
       "        vertical-align: top;\n",
       "    }\n",
       "\n",
       "    .dataframe thead th {\n",
       "        text-align: right;\n",
       "    }\n",
       "</style>\n",
       "<table border=\"1\" class=\"dataframe\">\n",
       "  <thead>\n",
       "    <tr style=\"text-align: right;\">\n",
       "      <th></th>\n",
       "      <th>lead_time</th>\n",
       "      <th>arrival_date_month</th>\n",
       "      <th>arrival_date_week_number</th>\n",
       "      <th>arrival_date_day_of_month</th>\n",
       "      <th>stays_in_weekend_nights</th>\n",
       "      <th>stays_in_week_nights</th>\n",
       "      <th>adults</th>\n",
       "      <th>children</th>\n",
       "      <th>babies</th>\n",
       "      <th>is_repeated_guest</th>\n",
       "      <th>...</th>\n",
       "      <th>reserved_room_type_E</th>\n",
       "      <th>reserved_room_type_F</th>\n",
       "      <th>reserved_room_type_G</th>\n",
       "      <th>reserved_room_type_H</th>\n",
       "      <th>reserved_room_type_L</th>\n",
       "      <th>deposit_type_Non Refund</th>\n",
       "      <th>deposit_type_Refundable</th>\n",
       "      <th>customer_type_Group</th>\n",
       "      <th>customer_type_Transient</th>\n",
       "      <th>customer_type_Transient-Party</th>\n",
       "    </tr>\n",
       "  </thead>\n",
       "  <tbody>\n",
       "    <tr>\n",
       "      <th>42031</th>\n",
       "      <td>32</td>\n",
       "      <td>9</td>\n",
       "      <td>39</td>\n",
       "      <td>24</td>\n",
       "      <td>1</td>\n",
       "      <td>1</td>\n",
       "      <td>2</td>\n",
       "      <td>2</td>\n",
       "      <td>0</td>\n",
       "      <td>0</td>\n",
       "      <td>...</td>\n",
       "      <td>0</td>\n",
       "      <td>1</td>\n",
       "      <td>0</td>\n",
       "      <td>0</td>\n",
       "      <td>0</td>\n",
       "      <td>0</td>\n",
       "      <td>0</td>\n",
       "      <td>0</td>\n",
       "      <td>1</td>\n",
       "      <td>0</td>\n",
       "    </tr>\n",
       "    <tr>\n",
       "      <th>16051</th>\n",
       "      <td>47</td>\n",
       "      <td>8</td>\n",
       "      <td>36</td>\n",
       "      <td>31</td>\n",
       "      <td>2</td>\n",
       "      <td>5</td>\n",
       "      <td>2</td>\n",
       "      <td>0</td>\n",
       "      <td>0</td>\n",
       "      <td>0</td>\n",
       "      <td>...</td>\n",
       "      <td>0</td>\n",
       "      <td>0</td>\n",
       "      <td>0</td>\n",
       "      <td>0</td>\n",
       "      <td>0</td>\n",
       "      <td>0</td>\n",
       "      <td>0</td>\n",
       "      <td>0</td>\n",
       "      <td>1</td>\n",
       "      <td>0</td>\n",
       "    </tr>\n",
       "    <tr>\n",
       "      <th>13198</th>\n",
       "      <td>183</td>\n",
       "      <td>8</td>\n",
       "      <td>33</td>\n",
       "      <td>17</td>\n",
       "      <td>2</td>\n",
       "      <td>4</td>\n",
       "      <td>2</td>\n",
       "      <td>1</td>\n",
       "      <td>0</td>\n",
       "      <td>0</td>\n",
       "      <td>...</td>\n",
       "      <td>0</td>\n",
       "      <td>0</td>\n",
       "      <td>0</td>\n",
       "      <td>0</td>\n",
       "      <td>0</td>\n",
       "      <td>0</td>\n",
       "      <td>0</td>\n",
       "      <td>0</td>\n",
       "      <td>1</td>\n",
       "      <td>0</td>\n",
       "    </tr>\n",
       "    <tr>\n",
       "      <th>2041</th>\n",
       "      <td>22</td>\n",
       "      <td>7</td>\n",
       "      <td>29</td>\n",
       "      <td>20</td>\n",
       "      <td>0</td>\n",
       "      <td>2</td>\n",
       "      <td>1</td>\n",
       "      <td>0</td>\n",
       "      <td>0</td>\n",
       "      <td>0</td>\n",
       "      <td>...</td>\n",
       "      <td>0</td>\n",
       "      <td>0</td>\n",
       "      <td>0</td>\n",
       "      <td>0</td>\n",
       "      <td>0</td>\n",
       "      <td>0</td>\n",
       "      <td>0</td>\n",
       "      <td>0</td>\n",
       "      <td>1</td>\n",
       "      <td>0</td>\n",
       "    </tr>\n",
       "    <tr>\n",
       "      <th>44836</th>\n",
       "      <td>178</td>\n",
       "      <td>6</td>\n",
       "      <td>23</td>\n",
       "      <td>9</td>\n",
       "      <td>0</td>\n",
       "      <td>2</td>\n",
       "      <td>2</td>\n",
       "      <td>0</td>\n",
       "      <td>0</td>\n",
       "      <td>0</td>\n",
       "      <td>...</td>\n",
       "      <td>0</td>\n",
       "      <td>0</td>\n",
       "      <td>0</td>\n",
       "      <td>0</td>\n",
       "      <td>0</td>\n",
       "      <td>1</td>\n",
       "      <td>0</td>\n",
       "      <td>0</td>\n",
       "      <td>1</td>\n",
       "      <td>0</td>\n",
       "    </tr>\n",
       "    <tr>\n",
       "      <th>...</th>\n",
       "      <td>...</td>\n",
       "      <td>...</td>\n",
       "      <td>...</td>\n",
       "      <td>...</td>\n",
       "      <td>...</td>\n",
       "      <td>...</td>\n",
       "      <td>...</td>\n",
       "      <td>...</td>\n",
       "      <td>...</td>\n",
       "      <td>...</td>\n",
       "      <td>...</td>\n",
       "      <td>...</td>\n",
       "      <td>...</td>\n",
       "      <td>...</td>\n",
       "      <td>...</td>\n",
       "      <td>...</td>\n",
       "      <td>...</td>\n",
       "      <td>...</td>\n",
       "      <td>...</td>\n",
       "      <td>...</td>\n",
       "      <td>...</td>\n",
       "    </tr>\n",
       "    <tr>\n",
       "      <th>11284</th>\n",
       "      <td>34</td>\n",
       "      <td>10</td>\n",
       "      <td>44</td>\n",
       "      <td>25</td>\n",
       "      <td>2</td>\n",
       "      <td>3</td>\n",
       "      <td>2</td>\n",
       "      <td>1</td>\n",
       "      <td>0</td>\n",
       "      <td>0</td>\n",
       "      <td>...</td>\n",
       "      <td>0</td>\n",
       "      <td>0</td>\n",
       "      <td>0</td>\n",
       "      <td>0</td>\n",
       "      <td>0</td>\n",
       "      <td>0</td>\n",
       "      <td>0</td>\n",
       "      <td>0</td>\n",
       "      <td>1</td>\n",
       "      <td>0</td>\n",
       "    </tr>\n",
       "    <tr>\n",
       "      <th>44732</th>\n",
       "      <td>157</td>\n",
       "      <td>8</td>\n",
       "      <td>31</td>\n",
       "      <td>3</td>\n",
       "      <td>0</td>\n",
       "      <td>3</td>\n",
       "      <td>1</td>\n",
       "      <td>0</td>\n",
       "      <td>0</td>\n",
       "      <td>0</td>\n",
       "      <td>...</td>\n",
       "      <td>0</td>\n",
       "      <td>0</td>\n",
       "      <td>0</td>\n",
       "      <td>0</td>\n",
       "      <td>0</td>\n",
       "      <td>0</td>\n",
       "      <td>0</td>\n",
       "      <td>0</td>\n",
       "      <td>1</td>\n",
       "      <td>0</td>\n",
       "    </tr>\n",
       "    <tr>\n",
       "      <th>38158</th>\n",
       "      <td>0</td>\n",
       "      <td>5</td>\n",
       "      <td>20</td>\n",
       "      <td>9</td>\n",
       "      <td>1</td>\n",
       "      <td>0</td>\n",
       "      <td>2</td>\n",
       "      <td>0</td>\n",
       "      <td>0</td>\n",
       "      <td>0</td>\n",
       "      <td>...</td>\n",
       "      <td>0</td>\n",
       "      <td>1</td>\n",
       "      <td>0</td>\n",
       "      <td>0</td>\n",
       "      <td>0</td>\n",
       "      <td>0</td>\n",
       "      <td>0</td>\n",
       "      <td>0</td>\n",
       "      <td>1</td>\n",
       "      <td>0</td>\n",
       "    </tr>\n",
       "    <tr>\n",
       "      <th>860</th>\n",
       "      <td>42</td>\n",
       "      <td>4</td>\n",
       "      <td>17</td>\n",
       "      <td>21</td>\n",
       "      <td>1</td>\n",
       "      <td>3</td>\n",
       "      <td>2</td>\n",
       "      <td>0</td>\n",
       "      <td>0</td>\n",
       "      <td>0</td>\n",
       "      <td>...</td>\n",
       "      <td>0</td>\n",
       "      <td>0</td>\n",
       "      <td>0</td>\n",
       "      <td>0</td>\n",
       "      <td>0</td>\n",
       "      <td>0</td>\n",
       "      <td>0</td>\n",
       "      <td>0</td>\n",
       "      <td>1</td>\n",
       "      <td>0</td>\n",
       "    </tr>\n",
       "    <tr>\n",
       "      <th>15795</th>\n",
       "      <td>162</td>\n",
       "      <td>6</td>\n",
       "      <td>25</td>\n",
       "      <td>14</td>\n",
       "      <td>2</td>\n",
       "      <td>5</td>\n",
       "      <td>2</td>\n",
       "      <td>0</td>\n",
       "      <td>0</td>\n",
       "      <td>0</td>\n",
       "      <td>...</td>\n",
       "      <td>0</td>\n",
       "      <td>0</td>\n",
       "      <td>0</td>\n",
       "      <td>0</td>\n",
       "      <td>0</td>\n",
       "      <td>0</td>\n",
       "      <td>0</td>\n",
       "      <td>0</td>\n",
       "      <td>1</td>\n",
       "      <td>0</td>\n",
       "    </tr>\n",
       "  </tbody>\n",
       "</table>\n",
       "<p>33254 rows × 45 columns</p>\n",
       "</div>"
      ],
      "text/plain": [
       "       lead_time  arrival_date_month  arrival_date_week_number  \\\n",
       "42031         32                   9                        39   \n",
       "16051         47                   8                        36   \n",
       "13198        183                   8                        33   \n",
       "2041          22                   7                        29   \n",
       "44836        178                   6                        23   \n",
       "...          ...                 ...                       ...   \n",
       "11284         34                  10                        44   \n",
       "44732        157                   8                        31   \n",
       "38158          0                   5                        20   \n",
       "860           42                   4                        17   \n",
       "15795        162                   6                        25   \n",
       "\n",
       "       arrival_date_day_of_month  stays_in_weekend_nights  \\\n",
       "42031                         24                        1   \n",
       "16051                         31                        2   \n",
       "13198                         17                        2   \n",
       "2041                          20                        0   \n",
       "44836                          9                        0   \n",
       "...                          ...                      ...   \n",
       "11284                         25                        2   \n",
       "44732                          3                        0   \n",
       "38158                          9                        1   \n",
       "860                           21                        1   \n",
       "15795                         14                        2   \n",
       "\n",
       "       stays_in_week_nights  adults  children  babies  is_repeated_guest  ...  \\\n",
       "42031                     1       2         2       0                  0  ...   \n",
       "16051                     5       2         0       0                  0  ...   \n",
       "13198                     4       2         1       0                  0  ...   \n",
       "2041                      2       1         0       0                  0  ...   \n",
       "44836                     2       2         0       0                  0  ...   \n",
       "...                     ...     ...       ...     ...                ...  ...   \n",
       "11284                     3       2         1       0                  0  ...   \n",
       "44732                     3       1         0       0                  0  ...   \n",
       "38158                     0       2         0       0                  0  ...   \n",
       "860                       3       2         0       0                  0  ...   \n",
       "15795                     5       2         0       0                  0  ...   \n",
       "\n",
       "       reserved_room_type_E  reserved_room_type_F  reserved_room_type_G  \\\n",
       "42031                     0                     1                     0   \n",
       "16051                     0                     0                     0   \n",
       "13198                     0                     0                     0   \n",
       "2041                      0                     0                     0   \n",
       "44836                     0                     0                     0   \n",
       "...                     ...                   ...                   ...   \n",
       "11284                     0                     0                     0   \n",
       "44732                     0                     0                     0   \n",
       "38158                     0                     1                     0   \n",
       "860                       0                     0                     0   \n",
       "15795                     0                     0                     0   \n",
       "\n",
       "       reserved_room_type_H  reserved_room_type_L  deposit_type_Non Refund  \\\n",
       "42031                     0                     0                        0   \n",
       "16051                     0                     0                        0   \n",
       "13198                     0                     0                        0   \n",
       "2041                      0                     0                        0   \n",
       "44836                     0                     0                        1   \n",
       "...                     ...                   ...                      ...   \n",
       "11284                     0                     0                        0   \n",
       "44732                     0                     0                        0   \n",
       "38158                     0                     0                        0   \n",
       "860                       0                     0                        0   \n",
       "15795                     0                     0                        0   \n",
       "\n",
       "       deposit_type_Refundable  customer_type_Group  customer_type_Transient  \\\n",
       "42031                        0                    0                        1   \n",
       "16051                        0                    0                        1   \n",
       "13198                        0                    0                        1   \n",
       "2041                         0                    0                        1   \n",
       "44836                        0                    0                        1   \n",
       "...                        ...                  ...                      ...   \n",
       "11284                        0                    0                        1   \n",
       "44732                        0                    0                        1   \n",
       "38158                        0                    0                        1   \n",
       "860                          0                    0                        1   \n",
       "15795                        0                    0                        1   \n",
       "\n",
       "       customer_type_Transient-Party  \n",
       "42031                              0  \n",
       "16051                              0  \n",
       "13198                              0  \n",
       "2041                               0  \n",
       "44836                              0  \n",
       "...                              ...  \n",
       "11284                              0  \n",
       "44732                              0  \n",
       "38158                              0  \n",
       "860                                0  \n",
       "15795                              0  \n",
       "\n",
       "[33254 rows x 45 columns]"
      ]
     },
     "execution_count": 796,
     "metadata": {},
     "output_type": "execute_result"
    }
   ],
   "source": [
    "X_train"
   ]
  },
  {
   "cell_type": "code",
   "execution_count": 797,
   "id": "055c5254",
   "metadata": {},
   "outputs": [
    {
     "data": {
      "text/plain": [
       "42031    1\n",
       "16051    0\n",
       "13198    0\n",
       "2041     0\n",
       "44836    1\n",
       "        ..\n",
       "11284    0\n",
       "44732    1\n",
       "38158    1\n",
       "860      0\n",
       "15795    0\n",
       "Name: is_canceled, Length: 33254, dtype: int64"
      ]
     },
     "execution_count": 797,
     "metadata": {},
     "output_type": "execute_result"
    }
   ],
   "source": [
    "y_train"
   ]
  },
  {
   "cell_type": "markdown",
   "id": "6439ece5",
   "metadata": {},
   "source": [
    "#### Logistic Regression"
   ]
  },
  {
   "cell_type": "code",
   "execution_count": 798,
   "id": "7a395919",
   "metadata": {},
   "outputs": [],
   "source": [
    "model = LogisticRegression(solver='liblinear')"
   ]
  },
  {
   "cell_type": "code",
   "execution_count": 799,
   "id": "8931b9d1",
   "metadata": {},
   "outputs": [
    {
     "data": {
      "text/plain": [
       "LogisticRegression(solver='liblinear')"
      ]
     },
     "execution_count": 799,
     "metadata": {},
     "output_type": "execute_result"
    }
   ],
   "source": [
    "model.fit(X_train, y_train)"
   ]
  },
  {
   "cell_type": "code",
   "execution_count": 800,
   "id": "1235fc37",
   "metadata": {},
   "outputs": [],
   "source": [
    "pred=model.predict(X_test)"
   ]
  },
  {
   "cell_type": "code",
   "execution_count": 801,
   "id": "cafbc49b",
   "metadata": {},
   "outputs": [
    {
     "data": {
      "text/plain": [
       "array([0, 0, 0, ..., 1, 1, 0], dtype=int64)"
      ]
     },
     "execution_count": 801,
     "metadata": {},
     "output_type": "execute_result"
    }
   ],
   "source": [
    "pred"
   ]
  },
  {
   "cell_type": "code",
   "execution_count": 802,
   "id": "110a26eb",
   "metadata": {},
   "outputs": [
    {
     "name": "stdout",
     "output_type": "stream",
     "text": [
      "Logistic score: 0.5836\n"
     ]
    }
   ],
   "source": [
    "print(\"Logistic score: {:6.4f}\".format(model.score(X_train,y_train)))"
   ]
  },
  {
   "cell_type": "code",
   "execution_count": 803,
   "id": "57f9f245",
   "metadata": {},
   "outputs": [
    {
     "name": "stdout",
     "output_type": "stream",
     "text": [
      "The logistic regression model accuracy score was 58% on test dataset\n",
      "Precision: 0.5722,   Recall: 0.6547\n"
     ]
    }
   ],
   "source": [
    "print('The logistic regression model accuracy score was {}% on test dataset'.format(round(accuracy_score(y_test,pred)*100)))\n",
    "print(\"Precision: {:6.4f},   Recall: {:6.4f}\".format(precision_score(y_test, pred), \n",
    "                                                     recall_score(y_test,pred)))"
   ]
  },
  {
   "cell_type": "code",
   "execution_count": 804,
   "id": "1c7d4b1b",
   "metadata": {},
   "outputs": [
    {
     "data": {
      "text/plain": [
       "array([0.58798148, 0.59067467, 0.58678034, 0.60014735, 0.58793811])"
      ]
     },
     "execution_count": 804,
     "metadata": {},
     "output_type": "execute_result"
    }
   ],
   "source": [
    ">>> clf = model\n",
    ">>> scores = cross_val_score(clf, X, y, cv=5)\n",
    ">>> scores"
   ]
  },
  {
   "cell_type": "code",
   "execution_count": 805,
   "id": "7a3fb6cf",
   "metadata": {},
   "outputs": [
    {
     "name": "stdout",
     "output_type": "stream",
     "text": [
      "0.59 accuracy with a standard deviation of 0.00\n"
     ]
    }
   ],
   "source": [
    "print(\"%0.2f accuracy with a standard deviation of %0.2f\" % (scores.mean(), scores.std()))\n"
   ]
  },
  {
   "cell_type": "code",
   "execution_count": 806,
   "id": "65bcb937",
   "metadata": {},
   "outputs": [
    {
     "name": "stdout",
     "output_type": "stream",
     "text": [
      "Logistic Model confusion matrix: \n",
      "\n",
      " [[3657 3482]\n",
      " [2456 4657]]\n"
     ]
    }
   ],
   "source": [
    "print(\"Logistic Model confusion matrix: \\n\\n\", confusion_matrix(y_test, pred)) #model.predict(X_test)))"
   ]
  },
  {
   "cell_type": "code",
   "execution_count": 879,
   "id": "e93d43f6",
   "metadata": {},
   "outputs": [
    {
     "data": {
      "image/png": "[encoded data removed]",
      "text/plain": [
       "<Figure size 480x320 with 2 Axes>"
      ]
     },
     "metadata": {},
     "output_type": "display_data"
    }
   ],
   "source": [
    "logit_confusion = confusion_matrix(y_test, model.predict(X_test))\n",
    "plt.figure(dpi=80)\n",
    "sns.heatmap(logit_confusion, cmap=plt.cm.YlOrBr_r, annot=True, square=True)\n",
    "#, YlOrBr sns.heatmap(logit_confusion, cmap=plt.cm.cubehelix_r, annot=True, square=True)\n",
    "           #xticklabels=hotel_dataset['is_canceled'],\n",
    "           #yticklabels=hotel_dataset['is_canceled'])\n",
    "\n",
    "plt.xlabel('Predicted species')\n",
    "plt.ylabel('Actual species')\n",
    "plt.title('Logistic regression confusion matrix');\n",
    "\n",
    "plt.savefig(\"confusion_matrix_logit_iris\")"
   ]
  },
  {
   "cell_type": "code",
   "execution_count": 880,
   "id": "2defb769",
   "metadata": {},
   "outputs": [
    {
     "data": {
      "image/png": "[encoded data removed]",
      "text/plain": [
       "<Figure size 480x320 with 1 Axes>"
      ]
     },
     "metadata": {},
     "output_type": "display_data"
    }
   ],
   "source": [
    "precision_curve, recall_curve, threshold_curve = precision_recall_curve(y_test, model.predict_proba(X_test)[:,1] )\n",
    "\n",
    "plt.figure(dpi=80)\n",
    "plt.plot(threshold_curve, precision_curve[1:],label='precision')\n",
    "plt.plot(threshold_curve, recall_curve[1:], label='recall')\n",
    "plt.legend(loc='lower left')\n",
    "plt.xlabel('Threshold (above this probability, label as fraud)');\n",
    "plt.title('Precision and Recall Curves');"
   ]
  },
  {
   "cell_type": "code",
   "execution_count": 881,
   "id": "f4e3a7f5",
   "metadata": {},
   "outputs": [
    {
     "name": "stdout",
     "output_type": "stream",
     "text": [
      "ROC AUC score =  0.6239980667867973\n"
     ]
    },
    {
     "data": {
      "image/png": "[encoded data removed]",
      "text/plain": [
       "<Figure size 432x288 with 1 Axes>"
      ]
     },
     "metadata": {},
     "output_type": "display_data"
    }
   ],
   "source": [
    "fpr, tpr, thresholds = roc_curve(y_test, model.predict_proba(X_test)[:,1])\n",
    "plt.plot(fpr, tpr,lw=2)\n",
    "plt.plot([0,1],[0,1],c='violet',ls='--')\n",
    "plt.xlim([-0.05,1.05])\n",
    "plt.ylim([-0.05,1.05])\n",
    "\n",
    "\n",
    "plt.xlabel('False positive rate')\n",
    "plt.ylabel('True positive rate')\n",
    "plt.title('ROC curve for fraud problem');\n",
    "print(\"ROC AUC score = \", roc_auc_score(y_test, model.predict_proba(X_test)[:,1]))"
   ]
  },
  {
   "cell_type": "markdown",
   "id": "06aa8d77",
   "metadata": {},
   "source": [
    "#### Decision Tree Model "
   ]
  },
  {
   "cell_type": "code",
   "execution_count": 882,
   "id": "228fdc4f",
   "metadata": {},
   "outputs": [],
   "source": [
    "from sklearn.tree import DecisionTreeClassifier"
   ]
  },
  {
   "cell_type": "code",
   "execution_count": 811,
   "id": "d6b75846",
   "metadata": {},
   "outputs": [],
   "source": [
    "dt_model = DecisionTreeClassifier()"
   ]
  },
  {
   "cell_type": "code",
   "execution_count": 812,
   "id": "79dad0ce",
   "metadata": {},
   "outputs": [
    {
     "data": {
      "text/plain": [
       "DecisionTreeClassifier()"
      ]
     },
     "execution_count": 812,
     "metadata": {},
     "output_type": "execute_result"
    }
   ],
   "source": [
    "dt_model.fit(X_train,y_train )"
   ]
  },
  {
   "cell_type": "code",
   "execution_count": 890,
   "id": "16103905",
   "metadata": {},
   "outputs": [
    {
     "name": "stdout",
     "output_type": "stream",
     "text": [
      "The decision Tree model accuracy score was 78% on test dataset\n",
      "Precision: 0.7834,   Recall: 0.7720\n"
     ]
    }
   ],
   "source": [
    "dt_y_pred = dt_model.predict(X_test)\n",
    "\n",
    "print('The decision Tree model accuracy score was {}% on test dataset'.format(round(accuracy_score(y_test,dt_y_pred)*100)))\n",
    "print(\"Precision: {:6.4f},   Recall: {:6.4f}\".format (precision_score(y_test, dt_y_pred), \n",
    "                                                   recall_score(y_test,dt_y_pred)))"
   ]
  },
  {
   "cell_type": "code",
   "execution_count": 891,
   "id": "49f9b9e1",
   "metadata": {},
   "outputs": [
    {
     "name": "stdout",
     "output_type": "stream",
     "text": [
      "Random Forest model confusion matrix: \n",
      "\n",
      " [[5621 1518]\n",
      " [1622 5491]]\n"
     ]
    }
   ],
   "source": [
    "print(\"Random Forest model confusion matrix: \\n\\n\", confusion_matrix(y_test,dt_y_pred))#model.predict(X_test)))"
   ]
  },
  {
   "cell_type": "code",
   "execution_count": 884,
   "id": "6f31377c",
   "metadata": {},
   "outputs": [
    {
     "data": {
      "image/png": "[encoded data removed]",
      "text/plain": [
       "<Figure size 480x320 with 2 Axes>"
      ]
     },
     "metadata": {},
     "output_type": "display_data"
    }
   ],
   "source": [
    "Ran_confusion = confusion_matrix(y_test, dt_model.predict(X_test))\n",
    "plt.figure(dpi=80)\n",
    "sns.heatmap(Ran_confusion, cmap=plt.cm.YlOrBr_r, annot=True, square=True)\n",
    "#,\n",
    "           #xticklabels=hotel_dataset['is_canceled'],\n",
    "           #yticklabels=hotel_dataset['is_canceled'])\n",
    "\n",
    "plt.xlabel('Predicted species')\n",
    "plt.ylabel('Actual species')\n",
    "plt.title('Random Forest model confusion matrix');\n",
    "\n",
    "plt.savefig(\"confusion_matrix_Random_iris\")"
   ]
  },
  {
   "cell_type": "code",
   "execution_count": 885,
   "id": "0aec0b93",
   "metadata": {},
   "outputs": [
    {
     "data": {
      "image/png": "[encoded data removed]",
      "text/plain": [
       "<Figure size 480x320 with 1 Axes>"
      ]
     },
     "metadata": {},
     "output_type": "display_data"
    }
   ],
   "source": [
    "precision_curve, recall_curve, threshold_curve = precision_recall_curve(y_test, dt_model.predict_proba(X_test)[:,1] )\n",
    "\n",
    "plt.figure(dpi=80)\n",
    "plt.plot(threshold_curve, precision_curve[1:],label='precision')\n",
    "plt.plot(threshold_curve, recall_curve[1:], label='recall')\n",
    "plt.legend(loc='lower left')\n",
    "plt.xlabel('Threshold (above this probability, label as fraud)');\n",
    "plt.title('Precision and Recall Curves');"
   ]
  },
  {
   "cell_type": "code",
   "execution_count": 886,
   "id": "1be62649",
   "metadata": {},
   "outputs": [
    {
     "name": "stdout",
     "output_type": "stream",
     "text": [
      "ROC AUC score =  0.6239980667867973\n"
     ]
    },
    {
     "data": {
      "image/png": "[encoded data removed]",
      "text/plain": [
       "<Figure size 432x288 with 1 Axes>"
      ]
     },
     "metadata": {},
     "output_type": "display_data"
    }
   ],
   "source": [
    "from sklearn.metrics import roc_auc_score, roc_curve\n",
    "fpr, tpr, thresholds = roc_curve(y_test, dt_model.predict_proba(X_test)[:,1])\n",
    "plt.plot(fpr, tpr,lw=2)\n",
    "plt.plot([0,1],[0,1],c='violet',ls='--')\n",
    "plt.xlim([-0.05,1.05])\n",
    "plt.ylim([-0.05,1.05])\n",
    "\n",
    "\n",
    "plt.xlabel('False positive rate')\n",
    "plt.ylabel('True positive rate')\n",
    "plt.title('ROC curve for fraud problem');\n",
    "print(\"ROC AUC score = \", roc_auc_score(y_test, model.predict_proba(X_test)[:,1]))"
   ]
  },
  {
   "cell_type": "markdown",
   "id": "f2db402f",
   "metadata": {},
   "source": [
    "#### Random Forest Model "
   ]
  },
  {
   "cell_type": "code",
   "execution_count": 893,
   "id": "3d985aa0",
   "metadata": {},
   "outputs": [
    {
     "name": "stdout",
     "output_type": "stream",
     "text": [
      "The Random Forest model accuracy score was 83% on test dataset\n",
      "Precision: 0.8366,   Recall: 0.8213\n"
     ]
    }
   ],
   "source": [
    "from sklearn.ensemble import RandomForestClassifier\n",
    "#rnf_model=RandomForestClassifier() \n",
    "rf_model = RandomForestClassifier(max_features=8).fit(X_train,y_train)\n",
    "rf_y_pred = rf_model.predict(X_test)\n",
    "print('The Random Forest model accuracy score was {}% on test dataset'.format(round(accuracy_score(rf_y_pred, y_test)*100)))\n",
    "print(\"Precision: {:6.4f},   Recall: {:6.4f}\".format(precision_score(y_test, rf_y_pred), \n",
    "                                                     recall_score(y_test,rf_y_pred)))"
   ]
  },
  {
   "cell_type": "code",
   "execution_count": 820,
   "id": "877445d2",
   "metadata": {},
   "outputs": [
    {
     "data": {
      "text/plain": [
       "array([0.8298253 , 0.84422692, 0.83180718, 0.83370172, 0.83485949])"
      ]
     },
     "execution_count": 820,
     "metadata": {},
     "output_type": "execute_result"
    }
   ],
   "source": [
    ">>> clf = rf_model\n",
    ">>> scores = cross_val_score(clf, X, y, cv=5)\n",
    ">>> scores"
   ]
  },
  {
   "cell_type": "code",
   "execution_count": 821,
   "id": "d3579d79",
   "metadata": {},
   "outputs": [
    {
     "name": "stdout",
     "output_type": "stream",
     "text": [
      "0.83 accuracy with a standard deviation of 0.00\n"
     ]
    }
   ],
   "source": [
    "print(\"%0.2f accuracy with a standard deviation of %0.2f\" % (scores.mean(), scores.std()))"
   ]
  },
  {
   "cell_type": "code",
   "execution_count": 822,
   "id": "120fa4ad",
   "metadata": {},
   "outputs": [
    {
     "name": "stdout",
     "output_type": "stream",
     "text": [
      "Random Forest model confusion matrix: \n",
      "\n",
      " [[5992 1147]\n",
      " [1300 5813]]\n"
     ]
    }
   ],
   "source": [
    "print(\"Random Forest model confusion matrix: \\n\\n\", confusion_matrix(y_test, rf_y_pred))#model.predict(X_test)))"
   ]
  },
  {
   "cell_type": "code",
   "execution_count": 887,
   "id": "73921736",
   "metadata": {},
   "outputs": [
    {
     "data": {
      "image/png": "[encoded data removed]",
      "text/plain": [
       "<Figure size 480x320 with 2 Axes>"
      ]
     },
     "metadata": {},
     "output_type": "display_data"
    }
   ],
   "source": [
    "Ran_confusion = confusion_matrix(y_test, rf_model.predict(X_test))\n",
    "plt.figure(dpi=80)\n",
    "sns.heatmap(Ran_confusion, cmap=plt.cm.YlOrBr_r, annot=True, square=True)\n",
    "#,\n",
    "           #xticklabels=hotel_dataset['is_canceled'],\n",
    "           #yticklabels=hotel_dataset['is_canceled'])\n",
    "\n",
    "plt.xlabel('Predicted species')\n",
    "plt.ylabel('Actual species')\n",
    "plt.title('Random Forest model confusion matrix');\n",
    "\n",
    "plt.savefig(\"confusion_matrix_Random_iris\")"
   ]
  },
  {
   "cell_type": "code",
   "execution_count": 888,
   "id": "201488a9",
   "metadata": {},
   "outputs": [
    {
     "data": {
      "image/png": "[encoded data removed]",
      "text/plain": [
       "<Figure size 480x320 with 1 Axes>"
      ]
     },
     "metadata": {},
     "output_type": "display_data"
    }
   ],
   "source": [
    "precision_curve, recall_curve, threshold_curve = precision_recall_curve(y_test, rf_model.predict_proba(X_test)[:,1] )\n",
    "\n",
    "plt.figure(dpi=80)\n",
    "plt.plot(threshold_curve, precision_curve[1:],label='precision')\n",
    "plt.plot(threshold_curve, recall_curve[1:], label='recall')\n",
    "plt.legend(loc='lower left')\n",
    "plt.xlabel('Threshold (above this probability, label as fraud)');\n",
    "plt.title('Precision and Recall Curves');"
   ]
  },
  {
   "cell_type": "code",
   "execution_count": 889,
   "id": "318474e0",
   "metadata": {},
   "outputs": [
    {
     "name": "stdout",
     "output_type": "stream",
     "text": [
      "ROC AUC score =  0.6239980667867973\n"
     ]
    },
    {
     "data": {
      "image/png": "[encoded data removed]",
      "text/plain": [
       "<Figure size 432x288 with 1 Axes>"
      ]
     },
     "metadata": {},
     "output_type": "display_data"
    }
   ],
   "source": [
    "from sklearn.metrics import roc_auc_score, roc_curve\n",
    "fpr, tpr, thresholds = roc_curve(y_test, rf_model.predict_proba(X_test)[:,1])\n",
    "plt.plot(fpr, tpr,lw=2)\n",
    "plt.plot([0,1],[0,1],c='violet',ls='--')\n",
    "plt.xlim([-0.05,1.05])\n",
    "plt.ylim([-0.05,1.05])\n",
    "\n",
    "\n",
    "plt.xlabel('False positive rate')\n",
    "plt.ylabel('True positive rate')\n",
    "plt.title('ROC curve for fraud problem');\n",
    "print(\"ROC AUC score = \", roc_auc_score(y_test, model.predict_proba(X_test)[:,1]))"
   ]
  }
 ],
 "metadata": {
  "kernelspec": {
   "display_name": "Python 3 (ipykernel)",
   "language": "python",
   "name": "python3"
  },
  "language_info": {
   "codemirror_mode": {
    "name": "ipython",
    "version": 3
   },
   "file_extension": ".py",
   "mimetype": "text/x-python",
   "name": "python",
   "nbconvert_exporter": "python",
   "pygments_lexer": "ipython3",
   "version": "3.9.7"
  }
 },
 "nbformat": 4,
 "nbformat_minor": 5
}
